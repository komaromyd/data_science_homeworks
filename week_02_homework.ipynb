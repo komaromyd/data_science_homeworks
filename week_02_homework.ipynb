{
 "cells": [
  {
   "cell_type": "markdown",
   "metadata": {},
   "source": [
    "### Homework Week 02\n",
    "#### Loops, Functions and Classes\n",
    "1. Do this homework **in order**. \n",
    "2. Be sure to have a solid understanding of Functions before working with Classes. "
   ]
  },
  {
   "cell_type": "markdown",
   "metadata": {},
   "source": [
    "1. Iterate through `integers_list` and `print` values that are multiples of 7."
   ]
  },
  {
   "cell_type": "code",
   "execution_count": 2,
   "metadata": {},
   "outputs": [
    {
     "name": "stdout",
     "output_type": "stream",
     "text": [
      "490\n",
      "21\n",
      "308\n",
      "147\n"
     ]
    }
   ],
   "source": [
    "import random\n",
    "integers_list = [random.randint(0,1000) for i in range(50)] # a list comprehension\n",
    "for x in integers_list:\n",
    "    if x%7==0:\n",
    "        print(x)\n",
    "# your code here"
   ]
  },
  {
   "cell_type": "markdown",
   "metadata": {},
   "source": [
    "2. Create `list` of 5 colors as `strings` which are all lowercase. \n",
    "Iterate through the `list` and capitalize each color. \n",
    "You should modify the `list` in place. "
   ]
  },
  {
   "cell_type": "code",
   "execution_count": null,
   "metadata": {},
   "outputs": [],
   "source": [
    "list = ['green', 'yellow', 'red', 'blue', 'purple']\n",
    "for i in range(len(list)):\n",
    "    list[i]=list[i].capitalize()\n",
    "print(list)"
   ]
  },
  {
   "cell_type": "markdown",
   "metadata": {},
   "source": [
    "3. Loop through the string and eliminate all the asterisks."
   ]
  },
  {
   "cell_type": "code",
   "execution_count": 2,
   "metadata": {},
   "outputs": [],
   "source": [
    "asterisk = 'My *compu*ter has go*ne craz***y an*d add*ed extra *symbols.*'\n",
    "for char in asterisk:\n",
    "    if char == '*':\n",
    "        asterisk = asterisk.replace(char, '')\n",
    "print(asterisk)"
   ]
  },
  {
   "cell_type": "markdown",
   "metadata": {},
   "source": [
    "4. Write a `while` loop that increments `counter` until it reaches 7."
   ]
  },
  {
   "cell_type": "code",
   "execution_count": 3,
   "metadata": {},
   "outputs": [],
   "source": [
    "counter = 0\n",
    "\n",
    "while counter<=7:\n",
    "    counter = counter+1\n",
    "    if counter==7:\n",
    "        print(counter)\n",
    "        break"
   ]
  },
  {
   "cell_type": "markdown",
   "metadata": {},
   "source": [
    "5. Loop over `double_trouble` and eliminate any 'mosquito'."
   ]
  },
  {
   "cell_type": "code",
   "execution_count": 11,
   "metadata": {},
   "outputs": [
    {
     "name": "stdout",
     "output_type": "stream",
     "text": [
      "0 cat\n",
      "0 cat\n",
      "1 dog\n",
      "1 dog\n",
      "2 ['mouse', 'mosquito', 'bat', 'mosquito']\n",
      "2 ['mouse', 'mosquito', 'bat', 'mosquito']\n",
      "3 ['elephant', 'dog', 'whale', 'lion', 32, 'mosquito']\n",
      "3 ['elephant', 'dog', 'whale', 'lion', 32, 'mosquito']\n",
      "4 bird\n",
      "4 bird\n",
      "5 []\n",
      "5 []\n",
      "6 mosquito\n",
      "6 mosquito\n"
     ]
    }
   ],
   "source": [
    "double_trouble = ['cat', 'dog', ['mouse','mosquito','bat','mosquito'],['elephant','dog','whale','lion',32,'mosquito'],'bird',[],'mosquito']\n",
    "# your code here\n",
    "for element in double_trouble:\n",
    "    if type(element) == str and element == 'mosquito':\n",
    "        double_trouble.remove(element)\n",
    "    elif type(element) == list:\n",
    "            for animal in element:\n",
    "                if animal == 'mosquito':\n",
    "                    element.remove(animal)\n",
    "        \n",
    "print(double_trouble)"
   ]
  },
  {
   "cell_type": "markdown",
   "metadata": {},
   "source": [
    "6. Loop through the dictionary of phone numbers and correct the parentheses. "
   ]
  },
  {
   "cell_type": "code",
   "execution_count": 5,
   "metadata": {},
   "outputs": [],
   "source": [
    "phone_numbers = {'Jill':'1-)555(-567-8910',\n",
    "                'Jen':'1-)555(-567-8910',\n",
    "                'Jan':'1-)555(-567-8910',\n",
    "                'Jane':'1-)555(-567-8910',\n",
    "                'Jerri':'1-)555(-567-8910'}\n",
    "for name, number in phone_numbers.items():\n",
    "    newnumber=number.replace(')555(', '(555)')\n",
    "    phone_numbers[name]=newnumber\n",
    "print(phone_numbers)"
   ]
  },
  {
   "cell_type": "markdown",
   "metadata": {},
   "source": [
    "7. Create a function that takes in two numbers.\n",
    "\n",
    "If the numbers are both even add them and `return` the result.\n",
    "\n",
    "If the numbers are odd, subtract the second number from the first and `return` the result.\n",
    "\n",
    "(Assume you'll always get integers)"
   ]
  },
  {
   "cell_type": "code",
   "execution_count": null,
   "metadata": {},
   "outputs": [],
   "source": [
    "\n",
    " def functx(a,b):\n",
    "    if a%2==0 and b%2==0:\n",
    "        return(a+b)\n",
    "    elif a%2==1 and b%2==1:\n",
    "        return(b-a)\n",
    "    else:\n",
    "        return('')"
   ]
  },
  {
   "cell_type": "markdown",
   "metadata": {},
   "source": [
    "8. Create a function that takes in a `string` and removes all non-alphanumeric characters."
   ]
  },
  {
   "cell_type": "code",
   "execution_count": 5,
   "metadata": {},
   "outputs": [],
   "source": [
    "def remover(strings):\n",
    "    if type(strings)==str:\n",
    "        s = ''.join(ch for ch in strings if ch.isalnum())\n",
    "    print(s)\n",
    "string_value = \"this string has %^&! some weird values02\"\n",
    "remover(string_value)"
   ]
  },
  {
   "cell_type": "code",
   "execution_count": 6,
   "metadata": {},
   "outputs": [
    {
     "data": {
      "text/plain": [
       "'thisstringhassomeweirdvalues02'"
      ]
     },
     "execution_count": 6,
     "metadata": {},
     "output_type": "execute_result"
    }
   ],
   "source": [
    "character(\"this string has %^&! some weird values02\")"
   ]
  },
  {
   "cell_type": "markdown",
   "metadata": {},
   "source": [
    "9. Create a function to convert Celsius to Farenheight and print the result. \n",
    "\n",
    "Bonus(Optional): Include the degree symbol in the output."
   ]
  },
  {
   "cell_type": "code",
   "execution_count": null,
   "metadata": {},
   "outputs": [],
   "source": [
    "\n",
    "def converter(C):\n",
    "    fahr=(9*C/5+32)\n",
    "    degr=u'\\N{DEGREE SIGN}'\n",
    "    print(str(C)+' '+z+'C = ' + str(fahr) +' '+z+'F')\n"
   ]
  },
  {
   "cell_type": "markdown",
   "metadata": {},
   "source": [
    "10. Create a function that prints the fibonacci sequence from 0 to 25. "
   ]
  },
  {
   "cell_type": "code",
   "execution_count": null,
   "metadata": {},
   "outputs": [],
   "source": [
    "x=1\n",
    "y=0\n",
    "while x<25 and y<25:\n",
    "    x=x+y\n",
    "    y=x+y\n",
    "    if x<25 and y<25:\n",
    "        print(x)\n",
    "        print(y)\n",
    "    else:\n",
    "        break"
   ]
  },
  {
   "cell_type": "markdown",
   "metadata": {},
   "source": [
    "11. Create two functions. One function that accepts args `a` and `b` and returns `a + b`. \n",
    "\n",
    "Create a second function that accepts the first function as the 3rd argument as well as a and b.\n"
   ]
  },
  {
   "cell_type": "code",
   "execution_count": 6,
   "metadata": {},
   "outputs": [],
   "source": [
    "# you do the first function\n",
    "def summ(a,b):\n",
    "    return(a+b)\n",
    "def harm(a,b,c):\n",
    "    if c != summ(a,b):\n",
    "        pass\n",
    "    elif summ(a,b)!=0:\n",
    "            return(a*b/summ(a,b))\n",
    "    else:\n",
    "            return('Not defined')\n",
    "harm(2,3,5)\n",
    "harm(2,3,6)\n",
    "harm(2,-2, 0)\n",
    "# second function\n",
    "# Here's some starter code to avoid confusion.\n",
    "# Functions can be passed around like any other object. \n",
    "def second_function(a,b,some_function):\n",
    "    pass"
   ]
  },
  {
   "cell_type": "code",
   "execution_count": null,
   "metadata": {},
   "outputs": [],
   "source": []
  },
  {
   "cell_type": "markdown",
   "metadata": {},
   "source": [
    "12. Create a function that prints prime number from 0 to 100. "
   ]
  },
  {
   "cell_type": "code",
   "execution_count": null,
   "metadata": {},
   "outputs": [],
   "source": [
    "from math import sqrt\n",
    "# The primelist function lists all primes from 2 to L\n",
    "def primelist(L):\n",
    "    primes=[]\n",
    "    for N in range(2,L+1):\n",
    "        for i in range(2,N):\n",
    "            if N%i == 0:\n",
    "                break\n",
    "        else:\n",
    "            primes.append(N)\n",
    "    print(primes)\n",
    "\n",
    "primelist(100)\n"
   ]
  },
  {
   "cell_type": "markdown",
   "metadata": {},
   "source": [
    "13. Now's your chance to show off. Create a function that does something that has not already been done in the homework. Get creative. "
   ]
  },
  {
   "cell_type": "code",
   "execution_count": null,
   "metadata": {},
   "outputs": [],
   "source": [
    "#this function returns the length of the words in a sentence\n",
    "def word_length_count(sentence):\n",
    "    spacelist = [-1] #first index\n",
    "    for index, char in enumerate(sentence):\n",
    "        if char == ' ':\n",
    "            spacelist.append(index)\n",
    "    spacelist.append(len(sentence)-1) #last index\n",
    "    #spacelist returns the position of whitespaces\n",
    "    word_length_list=[] \n",
    "    for key, value in enumerate(spacelist):\n",
    "        if key < len(spacelist)-1: #this ensures that the function soesn't try to take indices into account which don't exist\n",
    "            word_length_list.append(spacelist[key+1]-spacelist[key]-1) #this list returns the difference of whitespace positions, i.e. the length of words\n",
    "        else:\n",
    "            break\n",
    "    print(word_length_list)\n",
    "blabla= 'a cdb plb80 htre2!'\n",
    "word_length_count(blabla)"
   ]
  },
  {
   "cell_type": "markdown",
   "metadata": {},
   "source": [
    "14. Add an attribute called `age` to the `__init__` method of the `Person` class.\n",
    "\n",
    "Create an instance of `Person()` and print the `age`."
   ]
  },
  {
   "cell_type": "code",
   "execution_count": 7,
   "metadata": {},
   "outputs": [],
   "source": [
    "class Person():\n",
    "    \n",
    "    def __init__(self, name, occupation, country, age):\n",
    "        self.name = name\n",
    "        self.occupation = occupation\n",
    "        self.country = country\n",
    "        self.age=age\n",
    "        # you attribute goes here\n",
    "Person1=Person('Nadia', 'engineeer', 'Scotland', 45)\n",
    "print(Person1.age)\n",
    "    "
   ]
  },
  {
   "cell_type": "markdown",
   "metadata": {},
   "source": [
    "15. Creat an instance of the class `Candy`. \n",
    "\n",
    "Add an attribute called `cost` on your instance. (Don't modify the class starter code.)\n",
    "\n",
    "Print the instance's `cost` attribute.\n",
    "\n",
    "Bonus(optional): Add a function of your choice to the instance. "
   ]
  },
  {
   "cell_type": "code",
   "execution_count": 8,
   "metadata": {},
   "outputs": [],
   "source": [
    "class Candy():\n",
    "    \n",
    "    def __init__(self, kind='chocolate', brand= 'Nestle', caramel = False, cost='0'):\n",
    "        self.type = kind\n",
    "        self.brand = brand\n",
    "        self.caramel = caramel\n",
    "        self.cost=cost\n",
    "    def describe(self):\n",
    "        print(str(self.brand) + ' is made of ' + str(self.type) + ' and costs $' + str(self.cost))\n",
    "\n",
    "Candy1=Candy('peanut butter', \"Reese's\", True, 2.95)\n",
    "print(Candy1.cost)\n",
    "Candy1.describe()\n",
    "\n",
    "\n",
    "        "
   ]
  },
  {
   "cell_type": "code",
   "execution_count": null,
   "metadata": {},
   "outputs": [],
   "source": []
  },
  {
   "cell_type": "markdown",
   "metadata": {},
   "source": [
    "16. Add an instance method to our class `Greet` that prints a greeting including `greeting` and the `name`. \n",
    "\n",
    "Example:\n",
    "\n",
    "`jen = Greet()`\n",
    "\n",
    "`jen.greet_method()` returns `\"Hello Jennifer\"`\n"
   ]
  },
  {
   "cell_type": "code",
   "execution_count": 9,
   "metadata": {},
   "outputs": [],
   "source": [
    "#not done yet!\n",
    "class Greet:\n",
    "    def __init__(self, name ='', language='', greeting=''):\n",
    "        self.name=name\n",
    "        self.language = language\n",
    "        self.greeting = greeting\n",
    "    def greeting(self):\n",
    "        print(str(self.greeting) + str(self.name))\n",
    "jen=Greet('Jennifer', 'English', 'Hello')\n",
    "jen.greeting()\n",
    "#i dunannknow why it doesnt work, its literally the same as in the examples. i am dumb. returns always str is not callable"
   ]
  },
  {
   "cell_type": "markdown",
   "metadata": {},
   "source": [
    "17. Add a line to the follwing code that will increment `employee_count` by 1 for **all** instances of `Employee`.\n",
    "\n",
    "The code should run each time an new instance of`Employee` is created. \n",
    "\n",
    "Hint: You don't need methods. Just a single expression will work. And it does NOT inlcude the word `self`. "
   ]
  },
  {
   "cell_type": "code",
   "execution_count": 10,
   "metadata": {},
   "outputs": [
    {
     "name": "stdout",
     "output_type": "stream",
     "text": [
      "0\n",
      "0\n"
     ]
    }
   ],
   "source": [
    "class Employee():\n",
    "    \n",
    "    # class variables. Applies to all instances of this class during creation.\n",
    "    yearly_bonus = 1.01 # not used anywhere in this example\n",
    "    \n",
    "    employee_count = 0 # This variable will change for all instances of the class.\n",
    "    \n",
    "       \n",
    "    def __init__(self,name, age, base_pay): # creates an instance of our object with unique attributes\n",
    "        \n",
    "        self.name = name\n",
    "        self.age = age\n",
    "        self.base_pay = base_pay\n",
    "        \n",
    "        \n",
    "        # your code here inside the __init__ method. \n",
    "        \n",
    "        \n",
    "emp1 = Employee('Matt', 32,40000)\n",
    "print(emp1.employee_count) # should be 1 if the __init__ method is working properly. \n",
    "\n",
    "emp2 = emp1 = Employee('Joe', 22,50000) # should be 2 if the __init__ method is working properly. \n",
    "print(emp2.employee_count)\n",
    "\n"
   ]
  },
  {
   "cell_type": "markdown",
   "metadata": {},
   "source": [
    "18 . Add a `static` method of your choice to the class below. \n",
    "\n",
    "Instaiate an object and call your method. \n",
    "\n",
    "What is a static method anyway? \n"
   ]
  },
  {
   "cell_type": "code",
   "execution_count": 11,
   "metadata": {},
   "outputs": [
    {
     "name": "stdout",
     "output_type": "stream",
     "text": [
      "Meryl Streep: This is my line...\n"
     ]
    }
   ],
   "source": [
    "class actress():\n",
    "    def __init__(self, name = 'Meryl Streep'):\n",
    "        self.name = name\n",
    "        \n",
    "    def act(self, line):\n",
    "        print(f'{self.name}: {line}')\n",
    "        \n",
    "    def hysterically_act(self, line):\n",
    "        print(f'{self.name}: {half_capitalize(line)}')\n",
    "    \n",
    "    @staticmethod\n",
    "    def half_capitalize(string):\n",
    "        ret = \"\"\n",
    "        i = True  # capitalize\n",
    "        for char in string:\n",
    "            if i:\n",
    "                ret += char.upper()\n",
    "            else:\n",
    "                ret += char.lower()\n",
    "            if char != ' ':\n",
    "                i = not i\n",
    "        return ret\n",
    "meryl = actress()\n",
    "meryl.act('This is my line...')\n",
    "meryl.hysterically_act"
   ]
  },
  {
   "cell_type": "code",
   "execution_count": null,
   "metadata": {},
   "outputs": [],
   "source": [
    "A class method that does not need access neither to the properties of the class itself, nor to the instances of the class. It resembles a function but it only works within the given class, however, without needing access to class and instance properties."
   ]
  },
  {
   "cell_type": "markdown",
   "metadata": {},
   "source": [
    " \n",
    "19."
   ]
  },
  {
   "cell_type": "code",
   "execution_count": null,
   "metadata": {},
   "outputs": [],
   "source": [
    "class Car:\n",
    "    def __init__(self, make ='', model='', year= 0):\n",
    "        self.make=make\n",
    "        self.model=model\n",
    "        self.year=year\n",
    "\n",
    "#Instantiate (create) an object that is your dream car. \n",
    "Dream_Car=Car('Rad EBike', 'Radrunner', 2021)\n",
    "\n",
    "#Print the make of your dream car using the object attributes.\n",
    "print(Dream_Car.make)\n",
    "\n",
    "#Then call the dir() method on your new object. (See your attrs are now included!)\n",
    "dir(Dream_Car)"
   ]
  },
  {
   "cell_type": "markdown",
   "metadata": {},
   "source": [
    "20. Create a class called `Dice` that accepts a single argument called `number_of_dice`. \n",
    "\n",
    "Create an instance method called `roll`. \n",
    "\n",
    "`roll` should randomly pick a number for each die when called and print the results as a list. \n",
    "\n",
    "Create an instance of `Dice`. Then call `roll()` on your instance.\n",
    "\n",
    "Hint: Inside your class create an empty list called `dice`."
   ]
  },
  {
   "cell_type": "code",
   "execution_count": 12,
   "metadata": {},
   "outputs": [
    {
     "name": "stdout",
     "output_type": "stream",
     "text": [
      "3\n"
     ]
    }
   ],
   "source": [
    "# Helpful starter code\n",
    "# not finished!!\n",
    "from random import randrange\n",
    "\n",
    "#print(randrange(1,7)) # randomly generates a number between 1 and 6\n",
    "class Dice():\n",
    "    def __init__(self, number_of_dice = 0):\n",
    "        self.number_of_dice = number_of_dice\n",
    "        #print(type(number_of_dice))\n",
    "        #\n",
    "    def roll(number_of_dice):\n",
    "        dice=[]\n",
    "        for k in range(1,number_of_dice):\n",
    "            dice.append(randrange(1,7))\n",
    "        return(dice)\n",
    "    print(Dice.roll(3))\n"
   ]
  },
  {
   "cell_type": "code",
   "execution_count": null,
   "metadata": {},
   "outputs": [],
   "source": []
  },
  {
   "cell_type": "markdown",
   "metadata": {},
   "source": [
    "Bonus(optional):\n",
    "\n",
    "0. Create a class of your choice.\n",
    "1. Give it instance variables and class variables. \n",
    "2. Give it a classmethod. \n",
    "3. Give it a regular method (instance method).\n",
    "4. Give it a static method. \n",
    "\n",
    "Show how each works by printing an example. "
   ]
  },
  {
   "cell_type": "code",
   "execution_count": null,
   "metadata": {},
   "outputs": [],
   "source": []
  }
 ],
 "metadata": {
  "kernelspec": {
   "display_name": "Python 3",
   "language": "python",
   "name": "python3"
  },
  "language_info": {
   "codemirror_mode": {
    "name": "ipython",
    "version": 3
   },
   "file_extension": ".py",
   "mimetype": "text/x-python",
   "name": "python",
   "nbconvert_exporter": "python",
   "pygments_lexer": "ipython3",
   "version": "3.8.3"
  }
 },
 "nbformat": 4,
 "nbformat_minor": 4
}
