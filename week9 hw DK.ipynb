{
 "cells": [
  {
   "cell_type": "code",
   "execution_count": 275,
   "id": "e76da631",
   "metadata": {},
   "outputs": [],
   "source": [
    "import pandas as pd\n",
    "import seaborn as sns\n",
    "import matplotlib.pyplot as plt\n",
    "import numpy as np\n",
    "from scipy.stats import norm\n",
    "from scipy import stats"
   ]
  },
  {
   "cell_type": "markdown",
   "id": "8271754f",
   "metadata": {},
   "source": [
    "# Q1"
   ]
  },
  {
   "cell_type": "markdown",
   "id": "045f8199",
   "metadata": {},
   "source": [
    "#### The probability distribution function is the probability of the values of a random variable as the function of the value of the random variable.\n",
    "#### The cumulative distribution function is the definite integral of the probability distribution function. \n",
    "#### The integral of the probability density function over the whole range of the possible values of the random variable gives 1. \n",
    "#### Integrating the pdf between values x1 and x2 the result gives the probability of the outcome of the random variable "
   ]
  },
  {
   "cell_type": "markdown",
   "id": "38fbe8f0",
   "metadata": {},
   "source": [
    "# Q2"
   ]
  },
  {
   "cell_type": "code",
   "execution_count": 160,
   "id": "bb90c465",
   "metadata": {},
   "outputs": [],
   "source": [
    "df = pd.read_csv(\"galton-stata11.tab\", sep=\"\\t\")"
   ]
  },
  {
   "cell_type": "code",
   "execution_count": 161,
   "id": "942ebda3",
   "metadata": {},
   "outputs": [
    {
     "data": {
      "text/html": [
       "<div>\n",
       "<style scoped>\n",
       "    .dataframe tbody tr th:only-of-type {\n",
       "        vertical-align: middle;\n",
       "    }\n",
       "\n",
       "    .dataframe tbody tr th {\n",
       "        vertical-align: top;\n",
       "    }\n",
       "\n",
       "    .dataframe thead th {\n",
       "        text-align: right;\n",
       "    }\n",
       "</style>\n",
       "<table border=\"1\" class=\"dataframe\">\n",
       "  <thead>\n",
       "    <tr style=\"text-align: right;\">\n",
       "      <th></th>\n",
       "      <th>family</th>\n",
       "      <th>father</th>\n",
       "      <th>mother</th>\n",
       "      <th>gender</th>\n",
       "      <th>height</th>\n",
       "      <th>kids</th>\n",
       "      <th>male</th>\n",
       "      <th>female</th>\n",
       "    </tr>\n",
       "  </thead>\n",
       "  <tbody>\n",
       "    <tr>\n",
       "      <th>0</th>\n",
       "      <td>1</td>\n",
       "      <td>78.5</td>\n",
       "      <td>67.0</td>\n",
       "      <td>M</td>\n",
       "      <td>73.2</td>\n",
       "      <td>4</td>\n",
       "      <td>1.0</td>\n",
       "      <td>0.0</td>\n",
       "    </tr>\n",
       "    <tr>\n",
       "      <th>1</th>\n",
       "      <td>1</td>\n",
       "      <td>78.5</td>\n",
       "      <td>67.0</td>\n",
       "      <td>F</td>\n",
       "      <td>69.2</td>\n",
       "      <td>4</td>\n",
       "      <td>0.0</td>\n",
       "      <td>1.0</td>\n",
       "    </tr>\n",
       "    <tr>\n",
       "      <th>2</th>\n",
       "      <td>1</td>\n",
       "      <td>78.5</td>\n",
       "      <td>67.0</td>\n",
       "      <td>F</td>\n",
       "      <td>69.0</td>\n",
       "      <td>4</td>\n",
       "      <td>0.0</td>\n",
       "      <td>1.0</td>\n",
       "    </tr>\n",
       "    <tr>\n",
       "      <th>3</th>\n",
       "      <td>1</td>\n",
       "      <td>78.5</td>\n",
       "      <td>67.0</td>\n",
       "      <td>F</td>\n",
       "      <td>69.0</td>\n",
       "      <td>4</td>\n",
       "      <td>0.0</td>\n",
       "      <td>1.0</td>\n",
       "    </tr>\n",
       "    <tr>\n",
       "      <th>4</th>\n",
       "      <td>2</td>\n",
       "      <td>75.5</td>\n",
       "      <td>66.5</td>\n",
       "      <td>M</td>\n",
       "      <td>73.5</td>\n",
       "      <td>4</td>\n",
       "      <td>1.0</td>\n",
       "      <td>0.0</td>\n",
       "    </tr>\n",
       "    <tr>\n",
       "      <th>...</th>\n",
       "      <td>...</td>\n",
       "      <td>...</td>\n",
       "      <td>...</td>\n",
       "      <td>...</td>\n",
       "      <td>...</td>\n",
       "      <td>...</td>\n",
       "      <td>...</td>\n",
       "      <td>...</td>\n",
       "    </tr>\n",
       "    <tr>\n",
       "      <th>893</th>\n",
       "      <td>136A</td>\n",
       "      <td>68.5</td>\n",
       "      <td>65.0</td>\n",
       "      <td>M</td>\n",
       "      <td>68.5</td>\n",
       "      <td>8</td>\n",
       "      <td>1.0</td>\n",
       "      <td>0.0</td>\n",
       "    </tr>\n",
       "    <tr>\n",
       "      <th>894</th>\n",
       "      <td>136A</td>\n",
       "      <td>68.5</td>\n",
       "      <td>65.0</td>\n",
       "      <td>M</td>\n",
       "      <td>67.7</td>\n",
       "      <td>8</td>\n",
       "      <td>1.0</td>\n",
       "      <td>0.0</td>\n",
       "    </tr>\n",
       "    <tr>\n",
       "      <th>895</th>\n",
       "      <td>136A</td>\n",
       "      <td>68.5</td>\n",
       "      <td>65.0</td>\n",
       "      <td>F</td>\n",
       "      <td>64.0</td>\n",
       "      <td>8</td>\n",
       "      <td>0.0</td>\n",
       "      <td>1.0</td>\n",
       "    </tr>\n",
       "    <tr>\n",
       "      <th>896</th>\n",
       "      <td>136A</td>\n",
       "      <td>68.5</td>\n",
       "      <td>65.0</td>\n",
       "      <td>F</td>\n",
       "      <td>63.5</td>\n",
       "      <td>8</td>\n",
       "      <td>0.0</td>\n",
       "      <td>1.0</td>\n",
       "    </tr>\n",
       "    <tr>\n",
       "      <th>897</th>\n",
       "      <td>136A</td>\n",
       "      <td>68.5</td>\n",
       "      <td>65.0</td>\n",
       "      <td>F</td>\n",
       "      <td>63.0</td>\n",
       "      <td>8</td>\n",
       "      <td>0.0</td>\n",
       "      <td>1.0</td>\n",
       "    </tr>\n",
       "  </tbody>\n",
       "</table>\n",
       "<p>898 rows × 8 columns</p>\n",
       "</div>"
      ],
      "text/plain": [
       "    family  father  mother gender  height  kids  male  female\n",
       "0        1    78.5    67.0      M    73.2     4   1.0     0.0\n",
       "1        1    78.5    67.0      F    69.2     4   0.0     1.0\n",
       "2        1    78.5    67.0      F    69.0     4   0.0     1.0\n",
       "3        1    78.5    67.0      F    69.0     4   0.0     1.0\n",
       "4        2    75.5    66.5      M    73.5     4   1.0     0.0\n",
       "..     ...     ...     ...    ...     ...   ...   ...     ...\n",
       "893   136A    68.5    65.0      M    68.5     8   1.0     0.0\n",
       "894   136A    68.5    65.0      M    67.7     8   1.0     0.0\n",
       "895   136A    68.5    65.0      F    64.0     8   0.0     1.0\n",
       "896   136A    68.5    65.0      F    63.5     8   0.0     1.0\n",
       "897   136A    68.5    65.0      F    63.0     8   0.0     1.0\n",
       "\n",
       "[898 rows x 8 columns]"
      ]
     },
     "execution_count": 161,
     "metadata": {},
     "output_type": "execute_result"
    }
   ],
   "source": [
    "df"
   ]
  },
  {
   "cell_type": "code",
   "execution_count": 162,
   "id": "e918d3aa",
   "metadata": {},
   "outputs": [],
   "source": [
    "df_male=df[df[\"gender\"]=='M']\n",
    "df_female=df[df[\"gender\"]=='F']"
   ]
  },
  {
   "cell_type": "code",
   "execution_count": 163,
   "id": "75bcc099",
   "metadata": {},
   "outputs": [
    {
     "data": {
      "text/plain": [
       "count    465.000000\n",
       "mean      69.228817\n",
       "std        2.631594\n",
       "min       60.000000\n",
       "25%       67.500000\n",
       "50%       69.200000\n",
       "75%       71.000000\n",
       "max       79.000000\n",
       "Name: height, dtype: float64"
      ]
     },
     "execution_count": 163,
     "metadata": {},
     "output_type": "execute_result"
    }
   ],
   "source": [
    "df_male['height'].describe()"
   ]
  },
  {
   "cell_type": "code",
   "execution_count": 164,
   "id": "31fbede0",
   "metadata": {},
   "outputs": [
    {
     "data": {
      "image/png": "[encoded data removed]",
      "text/plain": [
       "<Figure size 432x288 with 1 Axes>"
      ]
     },
     "metadata": {
      "needs_background": "light"
     },
     "output_type": "display_data"
    }
   ],
   "source": [
    "plt.hist(df_male['height'], bins=17)\n",
    "plt.show()"
   ]
  },
  {
   "cell_type": "code",
   "execution_count": 165,
   "id": "72153089",
   "metadata": {},
   "outputs": [
    {
     "data": {
      "image/png": "[encoded data removed]",
      "text/plain": [
       "<Figure size 432x288 with 1 Axes>"
      ]
     },
     "metadata": {
      "needs_background": "light"
     },
     "output_type": "display_data"
    }
   ],
   "source": [
    "plt.hist(df_female['height'], bins=17)\n",
    "plt.show()"
   ]
  },
  {
   "cell_type": "code",
   "execution_count": 166,
   "id": "8b7fbb6d",
   "metadata": {},
   "outputs": [
    {
     "data": {
      "image/png": "[encoded data removed]",
      "text/plain": [
       "<Figure size 432x288 with 2 Axes>"
      ]
     },
     "metadata": {
      "needs_background": "light"
     },
     "output_type": "display_data"
    }
   ],
   "source": [
    "list = ('M', 'F')\n",
    "list2 =(\"male\", \"female\")\n",
    "color = ('Blue', 'Red')\n",
    "fig, axes = plt.subplots(nrows=1, ncols=2, sharey=True, sharex=True)\n",
    "plt.xlim(55,80)\n",
    "plt.xticks([55, 60, 65, 70, 75, 80])\n",
    "plt.ylim(0,120)\n",
    "for k, gender in enumerate(list):\n",
    "    sns.histplot(x='height', data=df[df[\"gender\"]==gender], ax=axes[k], color=color[k], bins=15).set(title='Heights of {} children'.format(list2[k]))\n",
    "    \n"
   ]
  },
  {
   "cell_type": "markdown",
   "id": "c61845f2",
   "metadata": {},
   "source": [
    "### 2/b the data show a normal distribution\n",
    "### 2/a the number of bins sis chose to show one maximum but not an artificially high number of maxima (trial and error :()"
   ]
  },
  {
   "cell_type": "markdown",
   "id": "6a36da6e",
   "metadata": {},
   "source": [
    "# Q3"
   ]
  },
  {
   "cell_type": "code",
   "execution_count": 167,
   "id": "077c4584",
   "metadata": {
    "scrolled": true
   },
   "outputs": [
    {
     "data": {
      "image/png": "[encoded data removed]",
      "text/plain": [
       "<Figure size 432x288 with 1 Axes>"
      ]
     },
     "metadata": {
      "needs_background": "light"
     },
     "output_type": "display_data"
    }
   ],
   "source": [
    "fig, ax = plt.subplots()\n",
    "ax.boxplot([df['mother'], df['father'], df_female['height'], df_male['height']])\n",
    "ax.set_xticklabels(['Mothers', 'Fathers', 'Daughters', 'Sons'])\n",
    "plt.title(\"Height of parents and children by gender \")\n",
    "ax.set_ylabel('Height')\n",
    "plt.show()"
   ]
  },
  {
   "cell_type": "markdown",
   "id": "ccdb7fdb",
   "metadata": {},
   "source": [
    "### 3/a Women, regardless of age, have a lower height than men."
   ]
  },
  {
   "cell_type": "markdown",
   "id": "4113242c",
   "metadata": {},
   "source": [
    "# Q4"
   ]
  },
  {
   "cell_type": "code",
   "execution_count": 168,
   "id": "c7a18412",
   "metadata": {},
   "outputs": [],
   "source": [
    "# As the question is about all persons, we have to collect all persons in one dataframe. \n",
    "# We first group the dataframe by family, then extract the height of the father and the mother from each family\n",
    "df_fathers=df.groupby('family')['father'].unique().astype(float)\n",
    "df_mothers=df.groupby('family')['mother'].unique().astype(float)"
   ]
  },
  {
   "cell_type": "code",
   "execution_count": 169,
   "id": "6089e0a4",
   "metadata": {},
   "outputs": [],
   "source": [
    "df_parents=pd.concat([df_fathers, df_mothers], axis=0)"
   ]
  },
  {
   "cell_type": "code",
   "execution_count": 170,
   "id": "164d7c99",
   "metadata": {},
   "outputs": [],
   "source": [
    "# as the mother and the father from the same family have the same index, we reindex the parents dataset\n",
    "df_parents.reset_index(drop=True, inplace=True)"
   ]
  },
  {
   "cell_type": "code",
   "execution_count": 171,
   "id": "497ac64e",
   "metadata": {},
   "outputs": [
    {
     "data": {
      "text/plain": [
       "0      78.5\n",
       "1      74.0\n",
       "2      69.0\n",
       "3      69.0\n",
       "4      69.0\n",
       "       ... \n",
       "389    58.5\n",
       "390    58.0\n",
       "391    68.5\n",
       "392    67.0\n",
       "393    66.0\n",
       "Length: 394, dtype: float64"
      ]
     },
     "execution_count": 171,
     "metadata": {},
     "output_type": "execute_result"
    }
   ],
   "source": [
    "df_parents"
   ]
  },
  {
   "cell_type": "code",
   "execution_count": 172,
   "id": "777c8f28",
   "metadata": {},
   "outputs": [],
   "source": [
    "# we concatenate the databases displaying the heights of the children and that of  parents\n",
    "df_persons=pd.concat([df_parents, df['height']], axis=0)"
   ]
  },
  {
   "cell_type": "code",
   "execution_count": 173,
   "id": "5fbcb902",
   "metadata": {},
   "outputs": [],
   "source": [
    "df_persons.reset_index(drop=True, inplace=True)"
   ]
  },
  {
   "cell_type": "code",
   "execution_count": 174,
   "id": "39391476",
   "metadata": {},
   "outputs": [
    {
     "data": {
      "text/plain": [
       "0       78.5\n",
       "1       74.0\n",
       "2       69.0\n",
       "3       69.0\n",
       "4       69.0\n",
       "        ... \n",
       "1287    68.5\n",
       "1288    67.7\n",
       "1289    64.0\n",
       "1290    63.5\n",
       "1291    63.0\n",
       "Length: 1292, dtype: float64"
      ]
     },
     "execution_count": 174,
     "metadata": {},
     "output_type": "execute_result"
    }
   ],
   "source": [
    "df_persons"
   ]
  },
  {
   "cell_type": "code",
   "execution_count": 175,
   "id": "865bd791",
   "metadata": {},
   "outputs": [
    {
     "data": {
      "image/png": "[encoded data removed]",
      "text/plain": [
       "<Figure size 360x360 with 1 Axes>"
      ]
     },
     "metadata": {
      "needs_background": "light"
     },
     "output_type": "display_data"
    }
   ],
   "source": [
    "# the heights of all persons are plotted and a probability density function is estimated \n",
    "sns.displot(df_persons, kde=True, bins=22, color='Blue')\n",
    "plt.xlabel(\"Height / inches\")\n",
    "plt.xlim(55,80)\n",
    "plt.xticks([55, 60, 65, 70, 75, 80])\n",
    "plt.title(\"Height distribution of every person in the database\")\n",
    "plt.show()"
   ]
  },
  {
   "cell_type": "code",
   "execution_count": 176,
   "id": "aa3567f3",
   "metadata": {},
   "outputs": [],
   "source": [
    "# this looks like a bimodal distribution. Perhaps because of the difference of male and female heights? Let's check out!"
   ]
  },
  {
   "cell_type": "code",
   "execution_count": 177,
   "id": "c764ca3c",
   "metadata": {},
   "outputs": [],
   "source": [
    "df_daughters=df_female['height']\n",
    "df_sons=df_male['height']"
   ]
  },
  {
   "cell_type": "code",
   "execution_count": 178,
   "id": "b92a6019",
   "metadata": {},
   "outputs": [],
   "source": [
    "df_males=pd.concat([df_fathers, df_sons], axis=0)\n",
    "df_males.reset_index(drop=True, inplace=True)"
   ]
  },
  {
   "cell_type": "code",
   "execution_count": 179,
   "id": "22356bf7",
   "metadata": {},
   "outputs": [],
   "source": [
    "df_females=pd.concat([df_mothers, df_daughters], axis=0)\n",
    "df_females.reset_index(drop=True, inplace=True)"
   ]
  },
  {
   "cell_type": "code",
   "execution_count": 180,
   "id": "a5184ff8",
   "metadata": {},
   "outputs": [
    {
     "data": {
      "image/png": "[encoded data removed]",
      "text/plain": [
       "<Figure size 360x360 with 1 Axes>"
      ]
     },
     "metadata": {
      "needs_background": "light"
     },
     "output_type": "display_data"
    }
   ],
   "source": [
    "sns.displot(df_females, kde=True, bins=15, color='Blue')\n",
    "plt.xlabel(\"Height / inches\")\n",
    "plt.xlim(55,80)\n",
    "plt.xticks([55, 60, 65, 70, 75, 80])\n",
    "plt.title(\"Height distribution of females\")\n",
    "plt.show()"
   ]
  },
  {
   "cell_type": "code",
   "execution_count": 181,
   "id": "e9de7825",
   "metadata": {},
   "outputs": [
    {
     "data": {
      "image/png": "[encoded data removed]",
      "text/plain": [
       "<Figure size 360x360 with 1 Axes>"
      ]
     },
     "metadata": {
      "needs_background": "light"
     },
     "output_type": "display_data"
    }
   ],
   "source": [
    "sns.displot(df_males, kde=True, bins=15, color='Blue')\n",
    "plt.xlabel(\"Height / inches\")\n",
    "plt.xlim(55,80)\n",
    "plt.xticks([55, 60, 65, 70, 75, 80])\n",
    "plt.title(\"Height distribution of males\")\n",
    "plt.show()"
   ]
  },
  {
   "cell_type": "code",
   "execution_count": 182,
   "id": "b2f5b2af",
   "metadata": {},
   "outputs": [],
   "source": [
    "#Anyway, let's fit a normal distribution "
   ]
  },
  {
   "cell_type": "code",
   "execution_count": 183,
   "id": "9e4b852c",
   "metadata": {},
   "outputs": [],
   "source": [
    "mu_p, std_p = norm.fit(df_persons)"
   ]
  },
  {
   "cell_type": "code",
   "execution_count": 184,
   "id": "790c1a98",
   "metadata": {},
   "outputs": [
    {
     "data": {
      "text/plain": [
       "66.73204334365326"
      ]
     },
     "execution_count": 184,
     "metadata": {},
     "output_type": "execute_result"
    }
   ],
   "source": [
    "mu_p"
   ]
  },
  {
   "cell_type": "code",
   "execution_count": 185,
   "id": "eafb0d3b",
   "metadata": {},
   "outputs": [
    {
     "data": {
      "text/plain": [
       "3.604659588275616"
      ]
     },
     "execution_count": 185,
     "metadata": {},
     "output_type": "execute_result"
    }
   ],
   "source": [
    "std_p"
   ]
  },
  {
   "cell_type": "code",
   "execution_count": 186,
   "id": "576cfda5",
   "metadata": {},
   "outputs": [
    {
     "data": {
      "text/plain": [
       "0.0008861826410711563"
      ]
     },
     "execution_count": 186,
     "metadata": {},
     "output_type": "execute_result"
    }
   ],
   "source": [
    "norm.sf(78, mu_p, std_p)"
   ]
  },
  {
   "cell_type": "markdown",
   "id": "95f4054d",
   "metadata": {},
   "source": [
    "### the probability of a person being taller than 78 inches is 0.00089"
   ]
  },
  {
   "cell_type": "code",
   "execution_count": 324,
   "id": "5c06e7a9",
   "metadata": {},
   "outputs": [
    {
     "data": {
      "text/plain": [
       "0.0015479876160990713"
      ]
     },
     "execution_count": 324,
     "metadata": {},
     "output_type": "execute_result"
    }
   ],
   "source": [
    "# sanity check: number of persons taller than 78 inches divided by the total number of persons:\n",
    "len(df_persons[df_persons>78])/len(df_persons)"
   ]
  },
  {
   "cell_type": "code",
   "execution_count": 268,
   "id": "76e2fb7e",
   "metadata": {},
   "outputs": [
    {
     "data": {
      "image/png": "[encoded data removed]",
      "text/plain": [
       "<Figure size 432x288 with 1 Axes>"
      ]
     },
     "metadata": {
      "needs_background": "light"
     },
     "output_type": "display_data"
    }
   ],
   "source": [
    "# a histogram of the combined heights of all persons, together with the fitted normal distribution\n",
    "plt.hist(df_persons, bins=22, density=True, alpha=0.6, color='b')\n",
    "xmin, xmax = plt.xlim()\n",
    "x = np.linspace(xmin, xmax, len(df_persons))\n",
    "p = norm.pdf(x, mu_p, std_p)\n",
    "plt.plot(x, p, 'k', linewidth=2)\n",
    "plt.xlabel('Height/inches')\n",
    "title = \"Fit results: mu = %.2f,  std = %.2f\" % (mu_p, std_p)\n",
    "plt.title(title)\n",
    "\n",
    "plt.show()"
   ]
  },
  {
   "cell_type": "markdown",
   "id": "fa82ad6a",
   "metadata": {},
   "source": [
    "# Q5"
   ]
  },
  {
   "cell_type": "code",
   "execution_count": null,
   "id": "0721062d",
   "metadata": {},
   "outputs": [],
   "source": [
    "df_fathers=df.groupby('family')['father'].unique().astype(float)\n",
    "df_mothers=df.groupby('family')['mother'].unique().astype(float)\n",
    "df_nr_kids=df.groupby('family')['kids'].unique().astype(float)"
   ]
  },
  {
   "cell_type": "code",
   "execution_count": 189,
   "id": "891b24f9",
   "metadata": {},
   "outputs": [],
   "source": [
    "def var_s(array):\n",
    "    return np.var(array)*len(array)/(len(array)-1)"
   ]
  },
  {
   "cell_type": "code",
   "execution_count": 248,
   "id": "ebc83411",
   "metadata": {},
   "outputs": [],
   "source": [
    "std_list=[]\n",
    "for name in [df_fathers, df_mothers, df['height'], df_nr_kids, df['male'], df['female']]:\n",
    "    std_list.append(np.std(name))"
   ]
  },
  {
   "cell_type": "code",
   "execution_count": 252,
   "id": "d4be621a",
   "metadata": {},
   "outputs": [],
   "source": [
    "std_df=pd.DataFrame(std_list)"
   ]
  },
  {
   "cell_type": "code",
   "execution_count": 254,
   "id": "64f9cb99",
   "metadata": {},
   "outputs": [
    {
     "data": {
      "text/html": [
       "<div>\n",
       "<style scoped>\n",
       "    .dataframe tbody tr th:only-of-type {\n",
       "        vertical-align: middle;\n",
       "    }\n",
       "\n",
       "    .dataframe tbody tr th {\n",
       "        vertical-align: top;\n",
       "    }\n",
       "\n",
       "    .dataframe thead th {\n",
       "        text-align: right;\n",
       "    }\n",
       "</style>\n",
       "<table border=\"1\" class=\"dataframe\">\n",
       "  <thead>\n",
       "    <tr style=\"text-align: right;\">\n",
       "      <th></th>\n",
       "      <th>0</th>\n",
       "    </tr>\n",
       "  </thead>\n",
       "  <tbody>\n",
       "    <tr>\n",
       "      <th>0</th>\n",
       "      <td>6.875063</td>\n",
       "    </tr>\n",
       "    <tr>\n",
       "      <th>1</th>\n",
       "      <td>5.548884</td>\n",
       "    </tr>\n",
       "    <tr>\n",
       "      <th>2</th>\n",
       "      <td>12.837305</td>\n",
       "    </tr>\n",
       "    <tr>\n",
       "      <th>3</th>\n",
       "      <td>7.237025</td>\n",
       "    </tr>\n",
       "    <tr>\n",
       "      <th>4</th>\n",
       "      <td>0.249961</td>\n",
       "    </tr>\n",
       "    <tr>\n",
       "      <th>5</th>\n",
       "      <td>0.249961</td>\n",
       "    </tr>\n",
       "  </tbody>\n",
       "</table>\n",
       "</div>"
      ],
      "text/plain": [
       "           0\n",
       "0   6.875063\n",
       "1   5.548884\n",
       "2  12.837305\n",
       "3   7.237025\n",
       "4   0.249961\n",
       "5   0.249961"
      ]
     },
     "execution_count": 254,
     "metadata": {},
     "output_type": "execute_result"
    }
   ],
   "source": [
    "svar_list=[]\n",
    "for name in [df_fathers, df_mothers, df['height'], df_nr_kids, df['male'], df['female']]:\n",
    "    svar_list.append(var_s(name))\n",
    "svar_df=pd.DataFrame(svar_list)\n",
    "svar_df"
   ]
  },
  {
   "cell_type": "code",
   "execution_count": 257,
   "id": "cfa95ef0",
   "metadata": {},
   "outputs": [
    {
     "data": {
      "text/html": [
       "<div>\n",
       "<style scoped>\n",
       "    .dataframe tbody tr th:only-of-type {\n",
       "        vertical-align: middle;\n",
       "    }\n",
       "\n",
       "    .dataframe tbody tr th {\n",
       "        vertical-align: top;\n",
       "    }\n",
       "\n",
       "    .dataframe thead th {\n",
       "        text-align: right;\n",
       "    }\n",
       "</style>\n",
       "<table border=\"1\" class=\"dataframe\">\n",
       "  <thead>\n",
       "    <tr style=\"text-align: right;\">\n",
       "      <th></th>\n",
       "      <th>0</th>\n",
       "    </tr>\n",
       "  </thead>\n",
       "  <tbody>\n",
       "    <tr>\n",
       "      <th>0</th>\n",
       "      <td>Height (father) / inches</td>\n",
       "    </tr>\n",
       "    <tr>\n",
       "      <th>1</th>\n",
       "      <td>Height (mother) / inches</td>\n",
       "    </tr>\n",
       "    <tr>\n",
       "      <th>2</th>\n",
       "      <td>Height (child) / inches</td>\n",
       "    </tr>\n",
       "    <tr>\n",
       "      <th>3</th>\n",
       "      <td>Number of children</td>\n",
       "    </tr>\n",
       "    <tr>\n",
       "      <th>4</th>\n",
       "      <td>Male</td>\n",
       "    </tr>\n",
       "    <tr>\n",
       "      <th>5</th>\n",
       "      <td>Female</td>\n",
       "    </tr>\n",
       "  </tbody>\n",
       "</table>\n",
       "</div>"
      ],
      "text/plain": [
       "                          0\n",
       "0  Height (father) / inches\n",
       "1  Height (mother) / inches\n",
       "2   Height (child) / inches\n",
       "3        Number of children\n",
       "4                      Male\n",
       "5                    Female"
      ]
     },
     "execution_count": 257,
     "metadata": {},
     "output_type": "execute_result"
    }
   ],
   "source": [
    "sample_name=pd.DataFrame(['Height (father) / inches', 'Height (mother) / inches', 'Height (child) / inches','Number of children', 'Male', 'Female'])\n",
    "sample_name"
   ]
  },
  {
   "cell_type": "code",
   "execution_count": 264,
   "id": "6cb80b54",
   "metadata": {},
   "outputs": [],
   "source": [
    "df_stat=pd.concat([sample_name, svar_df, std_df], axis=1).round(decimals=3)"
   ]
  },
  {
   "cell_type": "code",
   "execution_count": 265,
   "id": "19e2542e",
   "metadata": {},
   "outputs": [],
   "source": [
    "df_stat.columns=['Group', 'Sample variation','Standard deviation']"
   ]
  },
  {
   "cell_type": "code",
   "execution_count": 266,
   "id": "487d2b58",
   "metadata": {},
   "outputs": [
    {
     "data": {
      "text/html": [
       "<div>\n",
       "<style scoped>\n",
       "    .dataframe tbody tr th:only-of-type {\n",
       "        vertical-align: middle;\n",
       "    }\n",
       "\n",
       "    .dataframe tbody tr th {\n",
       "        vertical-align: top;\n",
       "    }\n",
       "\n",
       "    .dataframe thead th {\n",
       "        text-align: right;\n",
       "    }\n",
       "</style>\n",
       "<table border=\"1\" class=\"dataframe\">\n",
       "  <thead>\n",
       "    <tr style=\"text-align: right;\">\n",
       "      <th></th>\n",
       "      <th>Group</th>\n",
       "      <th>Sample variation</th>\n",
       "      <th>Standard deviation</th>\n",
       "    </tr>\n",
       "  </thead>\n",
       "  <tbody>\n",
       "    <tr>\n",
       "      <th>0</th>\n",
       "      <td>Height (father) / inches</td>\n",
       "      <td>6.875</td>\n",
       "      <td>2.615</td>\n",
       "    </tr>\n",
       "    <tr>\n",
       "      <th>1</th>\n",
       "      <td>Height (mother) / inches</td>\n",
       "      <td>5.549</td>\n",
       "      <td>2.350</td>\n",
       "    </tr>\n",
       "    <tr>\n",
       "      <th>2</th>\n",
       "      <td>Height (child) / inches</td>\n",
       "      <td>12.837</td>\n",
       "      <td>3.581</td>\n",
       "    </tr>\n",
       "    <tr>\n",
       "      <th>3</th>\n",
       "      <td>Number of children</td>\n",
       "      <td>7.237</td>\n",
       "      <td>2.683</td>\n",
       "    </tr>\n",
       "    <tr>\n",
       "      <th>4</th>\n",
       "      <td>Male</td>\n",
       "      <td>0.250</td>\n",
       "      <td>0.500</td>\n",
       "    </tr>\n",
       "    <tr>\n",
       "      <th>5</th>\n",
       "      <td>Female</td>\n",
       "      <td>0.250</td>\n",
       "      <td>0.500</td>\n",
       "    </tr>\n",
       "  </tbody>\n",
       "</table>\n",
       "</div>"
      ],
      "text/plain": [
       "                      Group  Sample variation  Standard deviation\n",
       "0  Height (father) / inches             6.875               2.615\n",
       "1  Height (mother) / inches             5.549               2.350\n",
       "2   Height (child) / inches            12.837               3.581\n",
       "3        Number of children             7.237               2.683\n",
       "4                      Male             0.250               0.500\n",
       "5                    Female             0.250               0.500"
      ]
     },
     "execution_count": 266,
     "metadata": {},
     "output_type": "execute_result"
    }
   ],
   "source": [
    "df_stat"
   ]
  },
  {
   "cell_type": "markdown",
   "id": "88fafc67",
   "metadata": {},
   "source": [
    "### 5/a Sample variation and not population variation because we compensate for uncertainty of not sampling the whole population"
   ]
  },
  {
   "cell_type": "markdown",
   "id": "238da24e",
   "metadata": {},
   "source": [
    "### 5/b As the standard deviation is the square root of the sample variation (disregarding a factor len(data)/(len(data)-1), which is close to 1 in all cases), they convey the same information\n",
    "### The variation of the height of children is much higher than that of the adults\n",
    "### Calculating sample variation and deviation for numerical but basically categorical data doesn't make sense\n",
    "### Variance in the number of children is high"
   ]
  },
  {
   "cell_type": "markdown",
   "id": "97d3eea9",
   "metadata": {},
   "source": [
    "### 5/c Scales\n",
    "### 'father', mother', 'height'': ratio\n",
    "### 'male', female'': nominal\n",
    "### kids: cardinal"
   ]
  },
  {
   "cell_type": "markdown",
   "id": "dd922e8f",
   "metadata": {},
   "source": [
    "# Q6"
   ]
  },
  {
   "cell_type": "code",
   "execution_count": 298,
   "id": "a50d6b60",
   "metadata": {},
   "outputs": [
    {
     "data": {
      "text/plain": [
       "99.38752783964365"
      ]
     },
     "execution_count": 298,
     "metadata": {},
     "output_type": "execute_result"
    }
   ],
   "source": [
    "stats.percentileofscore(df['height'],75)"
   ]
  },
  {
   "cell_type": "code",
   "execution_count": null,
   "id": "fba56ee2",
   "metadata": {},
   "outputs": [],
   "source": [
    "### A child who is 75 inches tall is in the lower 99.4 percentile, i.e. the upper 0.6 percentile"
   ]
  },
  {
   "cell_type": "code",
   "execution_count": 299,
   "id": "a72758c8",
   "metadata": {},
   "outputs": [
    {
     "data": {
      "text/plain": [
       "0.0"
      ]
     },
     "execution_count": 299,
     "metadata": {},
     "output_type": "execute_result"
    }
   ],
   "source": [
    "stats.percentileofscore(df['height'],55)"
   ]
  },
  {
   "cell_type": "code",
   "execution_count": 301,
   "id": "a9b86194",
   "metadata": {},
   "outputs": [
    {
     "data": {
      "text/plain": [
       "56.0"
      ]
     },
     "execution_count": 301,
     "metadata": {},
     "output_type": "execute_result"
    }
   ],
   "source": [
    "df['height'].min()"
   ]
  },
  {
   "cell_type": "code",
   "execution_count": null,
   "id": "27d32a7d",
   "metadata": {},
   "outputs": [],
   "source": [
    "### there is no such child who is 55 inches tall as the minimum height is 56 inches"
   ]
  },
  {
   "cell_type": "code",
   "execution_count": null,
   "id": "0aa65a40",
   "metadata": {},
   "outputs": [],
   "source": [
    "mu_c, std_c = norm.fit(df['height'])"
   ]
  },
  {
   "cell_type": "code",
   "execution_count": 309,
   "id": "7fa06db1",
   "metadata": {},
   "outputs": [],
   "source": [
    "np.random.seed(1)\n",
    "height_norm = norm.rvs(mu_c, std_c, size=len(df['height']))"
   ]
  },
  {
   "cell_type": "code",
   "execution_count": 310,
   "id": "692931e9",
   "metadata": {},
   "outputs": [
    {
     "data": {
      "text/plain": [
       "array([72.57734605, 64.57003783, 64.86934806, 62.91847244, 69.85964848,\n",
       "       58.51905764, 73.00872695, 64.03486715, 67.90314485, 65.86771432,\n",
       "       71.99638632, 59.38348523, 65.60613925, 65.38542136, 70.82063146,\n",
       "       62.82206452, 66.14323829, 63.61714705, 66.9118546 , 68.84770681,\n",
       "       62.81945793, 70.85985785, 69.98921734, 68.56008394, 69.98658619,\n",
       "       64.31231363, 66.32062999, 63.40977216, 65.80140385, 68.6598525 ,\n",
       "       64.28390655, 65.33994661, 64.29997792, 63.73407413, 64.35700973,\n",
       "       66.71533947, 62.75968813, 67.60011498, 72.70431417, 69.4178934 ,\n",
       "       66.07374209, 63.58215948, 64.08517413, 72.82123998, 66.94262908,\n",
       "       64.47965808, 67.44434407, 74.28154229, 67.19097038, 68.97084722,\n",
       "       67.83557722, 65.49931086, 62.66942076, 65.50972104, 66.01265626,\n",
       "       68.86134288, 69.7650254 , 70.09489525, 67.78335664, 69.93031275,\n",
       "       64.05924951, 71.24711478, 68.5974526 , 65.69324294, 68.51003628,\n",
       "       66.49007394, 70.81296809, 72.20303737, 74.5870676 , 61.75994462,\n",
       "       61.58943012, 64.95423703, 67.33377084, 69.89818384, 67.89095486,\n",
       "       59.51934364, 65.66419744, 69.72560384, 67.58464195, 69.48939376,\n",
       "       65.96455047, 66.04179124, 67.42875239, 68.22905379, 67.47078645,\n",
       "       67.18685122, 64.35910044, 68.11271726, 67.19692301, 70.80528529,\n",
       "       71.053923  , 67.42372129, 65.41682392, 64.47344603, 68.27719108,\n",
       "       67.03763925, 65.5293769 , 66.91680741, 64.54051516, 69.26028937,\n",
       "       65.15955747, 71.14555819, 68.20556291, 68.88624939, 62.83989544,\n",
       "       67.36723587, 69.41256603, 63.34556203, 65.80738246, 66.8774806 ,\n",
       "       61.84366307, 67.88925193, 69.79072652, 63.68283005, 68.01596857,\n",
       "       62.06150461, 66.62212479, 60.97473408, 70.77640085, 68.22493175,\n",
       "       66.672539  , 63.98489637, 71.32191229, 73.80473026, 60.10740049,\n",
       "       71.1872986 , 72.58918239, 67.97108427, 62.46620398, 69.8522635 ,\n",
       "       66.11282876, 64.59809717, 62.35594699, 68.73212279, 69.59967074,\n",
       "       64.52787491, 68.62483419, 62.66289205, 69.63209301, 66.92744433,\n",
       "       66.09259844, 66.39634629, 69.87210482, 69.4478567 , 68.65666497,\n",
       "       67.25378785, 67.03936189, 68.97506251, 67.59323553, 69.20485443,\n",
       "       65.65018615, 58.04172394, 70.4806413 , 74.59209608, 68.3411825 ,\n",
       "       66.40204225, 66.27209231, 66.33436655, 66.82303217, 62.74282778,\n",
       "       64.909015  , 63.19041415, 67.65162106, 65.69844131, 68.53400403,\n",
       "       66.13509187, 70.29268075, 67.52533888, 74.6054174 , 59.96996803,\n",
       "       64.44413159, 69.98884554, 75.81443002, 65.87034844, 66.91706572,\n",
       "       65.95027655, 71.52853578, 65.7318631 , 69.19596813, 65.61550553,\n",
       "       62.20375554, 67.88348066, 68.56255648, 71.39163269, 66.36518813,\n",
       "       64.54996443, 68.77589456, 67.62275141, 67.76573044, 66.49887946,\n",
       "       70.91577346, 68.08381538, 73.58112654, 70.73929888, 69.12069698,\n",
       "       60.93295909, 68.91754937, 68.26568862, 69.6646459 , 70.50075711,\n",
       "       65.3251765 , 69.71139107, 64.74711799, 73.76095823, 61.9910741 ,\n",
       "       60.45580031, 60.84958472, 63.57167948, 62.75322439, 73.7652583 ,\n",
       "       65.59152087, 61.95267185, 70.75121002, 64.66039338, 62.33161376,\n",
       "       69.89700216, 68.99290236, 65.20314405, 71.80098274, 67.22299324,\n",
       "       72.55086238, 68.5609668 , 72.34265299, 67.15245305, 62.39287969,\n",
       "       75.53169088, 64.80631517, 66.04866735, 64.25261733, 66.03235057,\n",
       "       67.629671  , 67.48342875, 69.12775316, 73.17827092, 66.32931607,\n",
       "       62.34498006, 62.52690029, 64.37667478, 60.7655242 , 69.71505867,\n",
       "       64.97662603, 65.64707717, 66.75391717, 61.75950026, 63.67638288,\n",
       "       69.17678042, 68.9756314 , 65.17372588, 73.24407649, 62.08498289,\n",
       "       65.5253178 , 65.93407108, 56.75886819, 73.69883186, 68.07249715,\n",
       "       63.02009631, 74.10578452, 68.85790093, 68.29879044, 64.58707592,\n",
       "       67.14106582, 61.29734673, 69.60761763, 65.41985565, 67.24070669,\n",
       "       71.06515629, 67.78035147, 67.70056613, 67.75081314, 64.13490129,\n",
       "       69.75435893, 72.28734052, 69.47791504, 69.92948072, 63.61921288,\n",
       "       63.65321122, 61.60102437, 71.17329375, 65.8504919 , 71.77342375,\n",
       "       63.96072492, 65.19400446, 67.10240031, 70.06033214, 66.97823219,\n",
       "       67.51671191, 66.81987437, 67.395186  , 62.76269729, 67.05048414,\n",
       "       66.09256542, 66.55720633, 68.52370971, 64.32323443, 66.45807369,\n",
       "       65.69586043, 68.25501676, 69.57089367, 63.33938615, 68.85879054,\n",
       "       74.15810137, 61.49259079, 63.78790881, 63.60740987, 65.76126298,\n",
       "       72.57198799, 66.80850533, 64.27304617, 68.98732088, 64.6128366 ,\n",
       "       70.78354284, 67.85382818, 71.73380247, 64.39246763, 77.61395628,\n",
       "       69.71346445, 69.10469153, 66.57738854, 64.16238303, 63.65327763,\n",
       "       66.27376609, 63.90572873, 67.77293037, 63.80249915, 68.98473973,\n",
       "       70.1844886 , 64.23312994, 71.03160736, 65.90863868, 70.89768735,\n",
       "       68.32973036, 70.77966169, 63.19043933, 66.37826938, 71.9581468 ,\n",
       "       64.54754808, 59.46562976, 59.8044282 , 57.78531952, 59.19003227,\n",
       "       65.28664229, 71.339001  , 65.17710144, 67.91921696, 66.36681937,\n",
       "       66.79130354, 66.15838333, 66.13696403, 68.41208354, 62.54958706,\n",
       "       70.37787804, 70.05520377, 66.06220511, 69.64474224, 64.24923006,\n",
       "       64.83693616, 67.32025923, 66.07952358, 65.15379409, 64.35270579,\n",
       "       64.76434477, 70.12378135, 59.801799  , 68.02294559, 65.91402791,\n",
       "       69.3669345 , 68.60512936, 56.79664883, 68.8542649 , 67.92189151,\n",
       "       66.83897956, 65.08240559, 69.81622475, 65.28166428, 73.33067292,\n",
       "       68.78170195, 74.41608806, 63.94775369, 60.47285596, 69.32029691,\n",
       "       69.81415799, 66.88731221, 61.25039034, 65.15681227, 68.97364902,\n",
       "       66.10116919, 66.34535641, 66.13238537, 63.41641398, 64.85198569,\n",
       "       61.65230535, 73.09161881, 65.05841677, 68.47097569, 63.10139557,\n",
       "       69.60583485, 60.05304525, 70.05734225, 66.63404061, 74.31860454,\n",
       "       62.08209255, 67.03420304, 68.07571926, 71.17560746, 65.24647222,\n",
       "       67.0703128 , 59.0886821 , 63.78791967, 68.37789235, 70.71465363,\n",
       "       65.75181455, 74.12434115, 73.06400731, 66.54349852, 58.11812209,\n",
       "       60.39536216, 63.97523788, 70.75643148, 67.87175159, 59.26135031,\n",
       "       65.94149761, 72.53801323, 65.41854371, 64.07510699, 74.11814107,\n",
       "       66.95194586, 65.04486576, 68.01461205, 66.82215599, 65.22396498,\n",
       "       71.08807945, 70.75593264, 69.77175089, 66.39225922, 70.86765233,\n",
       "       66.58270932, 68.43170402, 70.46224347, 69.65709977, 73.16966408,\n",
       "       68.37670372, 60.73020134, 62.60621064, 71.59531894, 65.57439091,\n",
       "       68.14485733, 63.7116933 , 70.3447697 , 65.38263578, 71.98206371,\n",
       "       64.85480139, 70.76463999, 69.17565093, 64.17386066, 70.69611164,\n",
       "       63.53200676, 63.81549877, 69.34508297, 64.52138889, 64.63418414,\n",
       "       65.52920847, 63.1791616 , 70.50273491, 68.93973469, 66.5124297 ,\n",
       "       66.37254678, 68.37266264, 73.08221944, 69.8795662 , 64.93994459,\n",
       "       69.54456871, 66.33538   , 66.04809326, 73.44438064, 65.26050608,\n",
       "       65.04476615, 59.77035176, 61.73905777, 68.37612692, 64.27223221,\n",
       "       68.60634755, 62.76842306, 64.01301304, 69.17627616, 71.99203351,\n",
       "       68.88228989, 71.0500304 , 72.86471085, 70.48516956, 63.47182739,\n",
       "       66.38345912, 69.01737258, 65.27515562, 68.37907437, 61.10585341,\n",
       "       63.79343746, 68.65456805, 58.74985595, 62.79405728, 66.69724249,\n",
       "       60.60367125, 66.96523631, 63.89757245, 65.71651264, 65.83329277,\n",
       "       67.43853478, 64.74180639, 67.08185054, 64.60799423, 68.75194683,\n",
       "       72.82609039, 67.46566594, 67.36897914, 62.59246754, 69.24358147,\n",
       "       64.04610971, 63.86427092, 68.75683816, 67.40897622, 70.72540043,\n",
       "       71.92752156, 64.82813232, 67.22039854, 73.06460159, 70.22179303,\n",
       "       69.31406415, 71.43811373, 64.59565376, 69.04024658, 71.80711826,\n",
       "       72.56505246, 63.87380469, 65.85946447, 68.13116398, 65.7258132 ,\n",
       "       65.35762665, 69.21004649, 65.4951565 , 60.35831208, 68.05643779,\n",
       "       65.24061444, 64.14113433, 61.15390271, 70.39111058, 58.78557164,\n",
       "       60.67550768, 65.77290692, 71.16148571, 71.45064639, 62.62478657,\n",
       "       66.12460321, 61.35186249, 70.38174503, 61.47323327, 66.24791749,\n",
       "       70.45972577, 65.96424292, 72.02522137, 63.64525799, 68.08273306,\n",
       "       69.8162282 , 66.26039348, 71.72497502, 68.72350024, 60.89710956,\n",
       "       80.93614178, 69.08343335, 67.14507849, 61.75164947, 67.05349468,\n",
       "       65.11367057, 69.06807127, 68.09161311, 73.39617465, 67.27008163,\n",
       "       68.59951399, 68.09442972, 66.22895988, 66.10394844, 70.70328734,\n",
       "       69.55390751, 64.50670852, 62.77356151, 66.51930032, 70.91971753,\n",
       "       66.66210981, 73.01453995, 63.98522343, 67.26789428, 57.75000013,\n",
       "       64.62764963, 65.65375079, 68.59031924, 72.8864387 , 66.88582072,\n",
       "       71.96705729, 69.13011939, 70.2927416 , 65.09142579, 71.72023774,\n",
       "       62.91848799, 68.53381527, 63.35142938, 64.90525111, 61.52751669,\n",
       "       64.91168834, 68.01801298, 66.51442869, 61.93444799, 72.02729656,\n",
       "       67.96825263, 70.37049509, 69.57252754, 64.37985016, 59.79562709,\n",
       "       63.48262627, 71.14787915, 62.98802309, 69.68288   , 64.56770823,\n",
       "       68.16838435, 60.22937393, 70.93989669, 66.61863986, 69.93276437,\n",
       "       67.44057036, 69.6184954 , 66.39567964, 69.42259295, 61.35502692,\n",
       "       62.89074868, 69.35855695, 66.62039611, 65.94153936, 66.11751263,\n",
       "       68.55732939, 64.63597214, 68.58806262, 63.48131035, 65.30235223,\n",
       "       70.28772649, 70.59676285, 62.83186517, 69.76377685, 63.03945858,\n",
       "       69.38559015, 59.9611907 , 62.76040308, 64.9380999 , 66.16451704,\n",
       "       71.85854403, 69.99784183, 72.40231965, 71.08146036, 65.74777783,\n",
       "       65.80699437, 70.58859546, 66.90525741, 66.19850818, 61.97943232,\n",
       "       66.37946493, 56.76634728, 65.12736859, 63.25177891, 69.24074581,\n",
       "       65.04660159, 65.58238217, 71.58457133, 63.00405964, 67.89462153,\n",
       "       59.97388548, 67.08200348, 68.22982045, 69.83982214, 63.54257513,\n",
       "       67.90535731, 67.89997611, 66.69182342, 67.29788716, 68.42057112,\n",
       "       68.18546958, 63.19405215, 62.47840247, 75.73441279, 73.63531872,\n",
       "       61.77714185, 68.37288548, 69.00749429, 69.45117119, 67.26343567,\n",
       "       63.44163341, 66.107457  , 65.00200914, 67.2418702 , 65.79967346,\n",
       "       66.28917015, 70.40804838, 71.16722455, 62.53125094, 65.11371615,\n",
       "       63.9288967 , 71.1427454 , 66.54809854, 71.94940986, 65.05051017,\n",
       "       66.8537944 , 61.93111234, 71.42496985, 65.46220447, 61.44245957,\n",
       "       64.6391322 , 58.50699264, 66.64675558, 67.16350036, 67.79227615,\n",
       "       72.12530043, 65.682918  , 69.65212786, 67.87879312, 66.06842052,\n",
       "       59.32382236, 70.15361912, 64.95599853, 66.82498909, 62.21126825,\n",
       "       67.77407563, 67.14754046, 66.86603265, 66.27800661, 70.5178603 ,\n",
       "       70.2206529 , 69.36014276, 78.65321763, 64.61132975, 65.40166743,\n",
       "       63.12675658, 68.32192341, 64.29885103, 57.09806488, 62.41582006,\n",
       "       67.01941891, 70.37666109, 61.18540263, 64.56758234, 66.26168234,\n",
       "       64.15185379, 68.66274705, 66.77501713, 67.91111892, 64.16375164,\n",
       "       72.26290866, 66.75934755, 71.39279197, 65.18867361, 68.87357629,\n",
       "       64.32786943, 63.35555764, 64.23846614, 66.59644535, 65.97742276,\n",
       "       72.27247216, 62.64726906, 62.85627284, 72.84893321, 68.94069781,\n",
       "       60.02350303, 68.54137276, 67.61056054, 59.08160148, 65.43731585,\n",
       "       66.69818559, 69.3797865 , 70.17866588, 67.10355224, 70.46139814,\n",
       "       66.23689709, 63.69006035, 63.4154572 , 68.70386142, 59.74863776,\n",
       "       69.18786712, 62.79813751, 65.47433661, 68.57042409, 71.12204297,\n",
       "       59.81126138, 63.87382835, 66.93637656, 64.62615118, 69.84609638,\n",
       "       59.28948652, 68.05627423, 68.28587777, 66.93644354, 70.70771526,\n",
       "       62.35767973, 70.73056164, 64.24358661, 69.35883094, 65.59974009,\n",
       "       69.67679044, 69.55549312, 61.51802735, 66.20746936, 66.42969741,\n",
       "       65.90887742, 64.05472027, 73.39054691, 67.50944952, 72.32908292,\n",
       "       64.72261294, 62.95847801, 67.23425953, 64.74378353, 75.319619  ,\n",
       "       67.63953074, 70.88805914, 65.9577194 , 65.59309   , 66.64999902,\n",
       "       68.03448654, 69.80299547, 66.3232663 , 64.32261338, 62.93670666,\n",
       "       66.48610753, 68.81242581, 68.40056363, 66.69688715, 64.61163961,\n",
       "       67.28624553, 68.80827965, 66.62884923, 67.16307333, 66.22174603,\n",
       "       70.03902278, 65.19152902, 67.42507919, 68.17310682, 69.35873082,\n",
       "       72.11733854, 69.17943848, 68.90642686, 61.49588466, 68.93217624,\n",
       "       74.97431651, 63.78848502, 63.10986838, 65.99203155, 70.4177013 ,\n",
       "       68.63978151, 65.05214539, 66.63181235, 70.47424713, 69.16928993,\n",
       "       75.45831176, 70.36197696, 68.02678739, 68.96197787, 65.51100492,\n",
       "       63.25936062, 67.37645567, 68.51735173, 61.76428939, 64.89017216,\n",
       "       65.43841348, 67.7119354 , 65.82798153, 68.35454746, 67.11202282,\n",
       "       70.55764156, 60.63313084, 72.69472611, 71.83727186, 66.94087203,\n",
       "       69.08944776, 68.93269352, 64.12051306, 67.35034334, 69.54727222,\n",
       "       67.87012037, 70.52538911, 67.10086418, 67.04985349, 64.01124435,\n",
       "       65.45530775, 65.11447682, 72.86789553, 67.62192228, 63.18182111,\n",
       "       68.18804055, 66.07313998, 55.82539541, 68.4790048 , 61.20059568,\n",
       "       68.83212695, 63.31847952, 61.53854286])"
      ]
     },
     "execution_count": 310,
     "metadata": {},
     "output_type": "execute_result"
    }
   ],
   "source": [
    "height_norm"
   ]
  },
  {
   "cell_type": "code",
   "execution_count": 311,
   "id": "8389bb54",
   "metadata": {},
   "outputs": [
    {
     "data": {
      "text/plain": [
       "99.10913140311804"
      ]
     },
     "execution_count": 311,
     "metadata": {},
     "output_type": "execute_result"
    }
   ],
   "source": [
    "stats.percentileofscore(height_norm,75)"
   ]
  },
  {
   "cell_type": "code",
   "execution_count": 312,
   "id": "f05155c2",
   "metadata": {},
   "outputs": [
    {
     "data": {
      "text/plain": [
       "0.0"
      ]
     },
     "execution_count": 312,
     "metadata": {},
     "output_type": "execute_result"
    }
   ],
   "source": [
    "stats.percentileofscore(height_norm,55)"
   ]
  },
  {
   "cell_type": "code",
   "execution_count": null,
   "id": "8c19d778",
   "metadata": {},
   "outputs": [],
   "source": [
    "### by simulating a normal distribution with the same mean, std and size as the original dataset, we get slightly different results"
   ]
  },
  {
   "cell_type": "markdown",
   "id": "f1dabb79",
   "metadata": {},
   "source": [
    "# Q7"
   ]
  },
  {
   "cell_type": "code",
   "execution_count": 313,
   "id": "f860e890",
   "metadata": {},
   "outputs": [
    {
     "data": {
      "text/plain": [
       "0      78.5\n",
       "1      74.0\n",
       "2      69.0\n",
       "3      69.0\n",
       "4      69.0\n",
       "       ... \n",
       "657    72.0\n",
       "658    70.5\n",
       "659    68.7\n",
       "660    68.5\n",
       "661    67.7\n",
       "Length: 662, dtype: float64"
      ]
     },
     "execution_count": 313,
     "metadata": {},
     "output_type": "execute_result"
    }
   ],
   "source": [
    "df_males"
   ]
  },
  {
   "cell_type": "code",
   "execution_count": 315,
   "id": "d3a2af6a",
   "metadata": {},
   "outputs": [
    {
     "data": {
      "text/plain": [
       "67.0"
      ]
     },
     "execution_count": 315,
     "metadata": {},
     "output_type": "execute_result"
    }
   ],
   "source": [
    "df_males.quantile(0.2)"
   ]
  },
  {
   "cell_type": "markdown",
   "id": "06950868",
   "metadata": {},
   "source": [
    "### 80 percent of males are taller than 67 inches. sanity check:"
   ]
  },
  {
   "cell_type": "code",
   "execution_count": 319,
   "id": "defe4100",
   "metadata": {},
   "outputs": [
    {
     "data": {
      "text/plain": [
       "0.7673716012084593"
      ]
     },
     "execution_count": 319,
     "metadata": {},
     "output_type": "execute_result"
    }
   ],
   "source": [
    "len(df_males[df_males>67])/len(df_males)"
   ]
  },
  {
   "cell_type": "code",
   "execution_count": 323,
   "id": "81eabb7b",
   "metadata": {},
   "outputs": [
    {
     "data": {
      "text/plain": [
       "0.8338368580060423"
      ]
     },
     "execution_count": 323,
     "metadata": {},
     "output_type": "execute_result"
    }
   ],
   "source": [
    "len(df_males[df_males>66.9])/len(df_males)"
   ]
  },
  {
   "cell_type": "markdown",
   "id": "ad5bbfcc",
   "metadata": {},
   "source": [
    "# Q8"
   ]
  },
  {
   "cell_type": "markdown",
   "id": "e3f5aff8",
   "metadata": {},
   "source": [
    "#### There are 3 rooms; in 1 of them there is a present, in the others there is nothing. I choose room 1 without opening it. My partner opens one of the remaining rooms which doesn’t have the present. \n",
    "#### The question is if it is worth changing my initial guess. \n",
    "#### Let be P(Pr) the probability of the event M that the present is in room 1. Obviously, P(Pr)=1/3.\n",
    "#### Let be P(N) the probability of the event that in there is nothing in the room opened by my partner. Obviously, P(N)=1 as they’s always open an empty room.\n",
    "#### From Bayes’theorem: P(Pr|N)*P(N)=P(N|Pr)*P(Pr).\n",
    "#### Note that P(N|Pr)=1 , i.e. the probability that the room opened by my partner is empty, given that there is the present in room 1, is 1 – because my partner always opens the empty room\n",
    "#### Thus, P(Pr|N)=1/3, i.e. the probability that there is a present in room 1 (my initial guess), given that my partner opened an empty room, is 1/3.\n",
    "#### Thus, the probability that the present is in the room still closed (not opened by my partner neither chosen by me) is 2/3. Thus, it is worth changing my initial guess.\n"
   ]
  },
  {
   "cell_type": "code",
   "execution_count": null,
   "id": "4f32e7ab",
   "metadata": {},
   "outputs": [],
   "source": []
  },
  {
   "cell_type": "code",
   "execution_count": null,
   "id": "f42add6e",
   "metadata": {},
   "outputs": [],
   "source": []
  },
  {
   "cell_type": "code",
   "execution_count": null,
   "id": "8b05e29a",
   "metadata": {},
   "outputs": [],
   "source": []
  },
  {
   "cell_type": "code",
   "execution_count": null,
   "id": "6c0999d4",
   "metadata": {},
   "outputs": [],
   "source": []
  },
  {
   "cell_type": "code",
   "execution_count": null,
   "id": "af19c4b7",
   "metadata": {},
   "outputs": [],
   "source": []
  },
  {
   "cell_type": "code",
   "execution_count": null,
   "id": "996bad62",
   "metadata": {},
   "outputs": [],
   "source": []
  }
 ],
 "metadata": {
  "kernelspec": {
   "display_name": "Python 3 (ipykernel)",
   "language": "python",
   "name": "python3"
  },
  "language_info": {
   "codemirror_mode": {
    "name": "ipython",
    "version": 3
   },
   "file_extension": ".py",
   "mimetype": "text/x-python",
   "name": "python",
   "nbconvert_exporter": "python",
   "pygments_lexer": "ipython3",
   "version": "3.10.5"
  }
 },
 "nbformat": 4,
 "nbformat_minor": 5
}
