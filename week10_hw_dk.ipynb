{
 "cells": [
  {
   "cell_type": "code",
   "execution_count": null,
   "id": "9f2f95bf",
   "metadata": {},
   "outputs": [],
   "source": []
  },
  {
   "cell_type": "code",
   "execution_count": null,
   "id": "81fb418b",
   "metadata": {},
   "outputs": [],
   "source": []
  },
  {
   "cell_type": "code",
   "execution_count": 6,
   "id": "919e785e",
   "metadata": {},
   "outputs": [],
   "source": [
    "import numpy as np\n",
    "import pandas as pd\n",
    "from numpy import linalg as LA\n",
    "from numpy.linalg import norm\n",
    "from numpy import arccos\n",
    "from numpy import dot\n",
    "from numpy.linalg import det\n",
    "from numpy.linalg import inv\n",
    "from numpy.linalg import matrix_rank\n",
    "from scipy.linalg import lu\n",
    "import string"
   ]
  },
  {
   "cell_type": "markdown",
   "id": "273e4874",
   "metadata": {},
   "source": [
    "# Q1"
   ]
  },
  {
   "cell_type": "markdown",
   "id": "c35b3917",
   "metadata": {},
   "source": [
    "### If $ \\vec{a}$ and  $ \\vec{b}$ are n-dimensional vectors:\n",
    "$ \\\\ $\n",
    "$ \\vec{a} = (a_1\\ ,   a_2\\ , ...  a_n)$\n",
    "$ \\\\ $\n",
    "$ \\vec{b} = (b_1\\ ,   b_2\\ ,  ...  b_n)$\n",
    "$\\\\ $\n",
    "### then their dot product, $\\vec{a} \\cdot \\vec{b}$ is defined as a scalar, obtained by forming the product of the corresponding coordinates and summing them up:  \n",
    "\n",
    "$\\vec{a} \\cdot \\vec{b} = \\sum\\limits_{i=1}^{n} a_i b_i $"
   ]
  },
  {
   "cell_type": "markdown",
   "id": "e7cc6ded",
   "metadata": {},
   "source": [
    "### In contrast, if $ \\vec{a}$ and  $ \\vec{b}$ are 3-dimensional vectors, with $\\vec{x}$, $\\vec{y}$ and $\\vec{z}$ as unit vectors along the x, y and z axes :\n",
    "\n",
    "$ \\vec{a} = (a_1\\ ,   a_2\\ ,  a_3)=a_1\\vec{x}+a_2\\vec{y}+a_3\\vec{z}$\n",
    "$ \\\\ $\n",
    "$ \\vec{b} = (b_1\\ ,   b_2\\ , b_3)=b_1\\vec{x}+b_2\\vec{y}+b_3\\vec{z}$\n",
    "$ \\\\ $\n",
    "\n",
    "### then their cross-product, $\\vec{a} \\times \\vec{b}$ is defined as a vector which is perpendicular to both $ \\vec{a}$ and  $ \\vec{b}$ and is expressed as follows:\n",
    "\n",
    "$\\vec{a} \\times \\vec{b} =\\begin{pmatrix} \\vec{x} & \\vec{y} & \\vec{z} \\\\ a_1\\ & a_2\\ & a_3\\ \\\\ b_1\\ & b_2\\ & b_3\\ \\end{pmatrix} = \\vec{x} (a_2 b_3-a_3 b_2) + \\vec{y} (a_3 b_1-a_1 b_3) + \\vec{z} (a_1 b_2-a_2 b_1) = (a_2 b_3-a_3 b_2 ,  a_3 b_1-a_1 b_3 ,  a_1 b_2-a_2 b_1) .  $ "
   ]
  },
  {
   "cell_type": "markdown",
   "id": "1c35a7c0",
   "metadata": {},
   "source": [
    "# Q2"
   ]
  },
  {
   "cell_type": "code",
   "execution_count": 2,
   "id": "4e5c22c7",
   "metadata": {},
   "outputs": [],
   "source": [
    "from numpy import linalg as LA\n",
    "def angle_between(v1,v2):\n",
    "    try:\n",
    "        th=np.arccos(np.dot(v1, v2)/(LA.norm(v1)*LA.norm(v2)))\n",
    "    except Exception as e:\n",
    "        print(e)\n",
    "    else:\n",
    "        return (th)"
   ]
  },
  {
   "cell_type": "code",
   "execution_count": 4,
   "id": "34932c4a",
   "metadata": {},
   "outputs": [],
   "source": [
    "a1=[2,3,4,9]\n",
    "b1=[5,6,7]\n",
    "a2=[1,6,8]\n",
    "b2=[1,5,6,7]\n",
    "c='c'\n",
    "d=True\n",
    "e= False"
   ]
  },
  {
   "cell_type": "code",
   "execution_count": 7,
   "id": "6c9c5cdc",
   "metadata": {
    "scrolled": true
   },
   "outputs": [
    {
     "data": {
      "text/plain": [
       "0.40202939638014745"
      ]
     },
     "execution_count": 7,
     "metadata": {},
     "output_type": "execute_result"
    }
   ],
   "source": [
    "angle_between(b1,a2)"
   ]
  },
  {
   "cell_type": "code",
   "execution_count": 8,
   "id": "449e40e3",
   "metadata": {},
   "outputs": [
    {
     "name": "stdout",
     "output_type": "stream",
     "text": [
      "shapes (3,) and (4,) not aligned: 3 (dim 0) != 4 (dim 0)\n"
     ]
    }
   ],
   "source": [
    "angle_between(b1,a1)"
   ]
  },
  {
   "cell_type": "code",
   "execution_count": 9,
   "id": "ec269cb8",
   "metadata": {},
   "outputs": [
    {
     "name": "stdout",
     "output_type": "stream",
     "text": [
      "ufunc 'multiply' did not contain a loop with signature matching types (dtype('<U1'), dtype('<U1')) -> None\n"
     ]
    }
   ],
   "source": [
    "angle_between(b1,c)"
   ]
  },
  {
   "cell_type": "code",
   "execution_count": 10,
   "id": "4597060e",
   "metadata": {},
   "outputs": [
    {
     "data": {
      "text/plain": [
       "array([1.07386384, 0.96175972, 0.84005239])"
      ]
     },
     "execution_count": 10,
     "metadata": {},
     "output_type": "execute_result"
    }
   ],
   "source": [
    "# don't know how to throw an error if I want to measure the angle between a vector and a boolean\n",
    "angle_between(b1,d)"
   ]
  },
  {
   "cell_type": "markdown",
   "id": "86b0a087",
   "metadata": {},
   "source": [
    "# Q3"
   ]
  },
  {
   "cell_type": "code",
   "execution_count": 15,
   "id": "b233dadb",
   "metadata": {},
   "outputs": [],
   "source": [
    "def row_dot(A, r1, r2):\n",
    "    try:\n",
    "        product =(np.dot(A[r1], A[r2]))\n",
    "    except NameError:\n",
    "        return \"NameError occurred. Some variable isn't defined.\"\n",
    "    except IndexError:\n",
    "        return \"Index out of range\"\n",
    "    else:\n",
    "        print(product)"
   ]
  },
  {
   "cell_type": "code",
   "execution_count": 11,
   "id": "0134b852",
   "metadata": {},
   "outputs": [
    {
     "data": {
      "text/plain": [
       "array([[6, 9, 6, 1, 1, 2, 8],\n",
       "       [7, 3, 5, 6, 3, 5, 3],\n",
       "       [5, 8, 8, 2, 8, 1, 7],\n",
       "       [8, 7, 2, 1, 2, 9, 9],\n",
       "       [4, 9, 8, 4, 7, 6, 2]])"
      ]
     },
     "execution_count": 11,
     "metadata": {},
     "output_type": "execute_result"
    }
   ],
   "source": [
    "np.random.seed(1)\n",
    "M1=np.random.randint(1, 10, size=(5, 7), dtype=int)\n",
    "M1"
   ]
  },
  {
   "cell_type": "code",
   "execution_count": 14,
   "id": "e483054a",
   "metadata": {},
   "outputs": [
    {
     "name": "stdout",
     "output_type": "stream",
     "text": [
      "161\n"
     ]
    }
   ],
   "source": [
    "row_dot(M1, 1, 2)"
   ]
  },
  {
   "cell_type": "code",
   "execution_count": 16,
   "id": "c833db65",
   "metadata": {},
   "outputs": [
    {
     "data": {
      "text/plain": [
       "'Index out of range'"
      ]
     },
     "execution_count": 16,
     "metadata": {},
     "output_type": "execute_result"
    }
   ],
   "source": [
    "row_dot(M1, 1, 89)"
   ]
  },
  {
   "cell_type": "code",
   "execution_count": 17,
   "id": "58e0beb8",
   "metadata": {},
   "outputs": [
    {
     "data": {
      "text/plain": [
       "'Index out of range'"
      ]
     },
     "execution_count": 17,
     "metadata": {},
     "output_type": "execute_result"
    }
   ],
   "source": [
    "row_dot(M1, 1, 'c')"
   ]
  },
  {
   "cell_type": "code",
   "execution_count": 18,
   "id": "ce6e5cdd",
   "metadata": {
    "scrolled": true
   },
   "outputs": [
    {
     "ename": "NameError",
     "evalue": "name 'a' is not defined",
     "output_type": "error",
     "traceback": [
      "\u001b[1;31m---------------------------------------------------------------------------\u001b[0m",
      "\u001b[1;31mNameError\u001b[0m                                 Traceback (most recent call last)",
      "Input \u001b[1;32mIn [18]\u001b[0m, in \u001b[0;36m<cell line: 1>\u001b[1;34m()\u001b[0m\n\u001b[1;32m----> 1\u001b[0m row_dot(M1, \u001b[38;5;241m1\u001b[39m, \u001b[43ma\u001b[49m)\n",
      "\u001b[1;31mNameError\u001b[0m: name 'a' is not defined"
     ]
    }
   ],
   "source": [
    "row_dot(M1, 1, a)"
   ]
  },
  {
   "cell_type": "markdown",
   "id": "991b4604",
   "metadata": {},
   "source": [
    "# Q4"
   ]
  },
  {
   "cell_type": "markdown",
   "id": "483ed210",
   "metadata": {},
   "source": [
    "### Problem with matrix division: If $A$ and $B$ are two matrices, then the following criteria should be met to define their quotient: \n",
    "### 1. $B$ should be a square matrix.\n",
    "### 2. $det(B) \\neq 0$.\n",
    "### 3. If the number of columns in $A$ is equal to the number of rows in $B$, then   $ \\frac{A}{B} =  A  \\cdot B^{-1} $.\n",
    "### 4. If the number of columns in $B$ is equal to the number of rows in $A$, then   $ \\frac{A}{B} =  B^{-1}  \\cdot A $.\n",
    "### 5. If both criteria 3. and 4. are met (i.e. $A$ and $B$ are square matrices of the same size), then \\frac{A}{B} is ambiguous."
   ]
  },
  {
   "cell_type": "code",
   "execution_count": 19,
   "id": "72f1426f",
   "metadata": {},
   "outputs": [],
   "source": [
    "def m_divide_left(A,B):\n",
    "    if (type(A) != np.ndarray or type(B) != np.ndarray):\n",
    "        print('Input should be matrices')\n",
    "    elif (B.shape[0]!=B.shape[1]):\n",
    "        print('Second matrix should be square matrix')\n",
    "    elif (det(B)==0):\n",
    "        print('Determinant of second matrix is zero')\n",
    "    elif (A.shape[1] != B.shape[0]):\n",
    "        print('Matrix sizes do not match')\n",
    "    else:\n",
    "        print('A*B^(-1)= \\n', np.dot(A, LA.inv(B)))"
   ]
  },
  {
   "cell_type": "code",
   "execution_count": 20,
   "id": "e6302206",
   "metadata": {},
   "outputs": [],
   "source": [
    "def m_divide_right(A,B):\n",
    "    if (type(A) != np.ndarray or type(B) != np.ndarray):\n",
    "        print('Input should be matrices')\n",
    "    elif (B.shape[0]!=B.shape[1]):\n",
    "        print('Second matrix should be square matrix')\n",
    "    elif (det(B)==0):\n",
    "        print('Determinant of second matrix is zero')\n",
    "    elif (B.shape[1] != A.shape[0]):\n",
    "        print('Matrix sizes do not match')\n",
    "    else:\n",
    "        print('B^(-1)*A= \\n', np.dot(LA.inv(B), A))"
   ]
  },
  {
   "cell_type": "code",
   "execution_count": 21,
   "id": "c7986e1b",
   "metadata": {},
   "outputs": [],
   "source": [
    "def matrix_division(m1,m2):\n",
    "    return(m_divide_left(m1,m2),  m_divide_right(m1,m2))"
   ]
  },
  {
   "cell_type": "code",
   "execution_count": 26,
   "id": "d8f75385",
   "metadata": {},
   "outputs": [],
   "source": [
    "np.random.seed(1)\n",
    "M2=np.random.randint(1, 10, size=(5, 7), dtype=int)\n",
    "M3=np.random.randint(1, 10, size=(7, 7), dtype=int)\n",
    "M8=np.random.randint(1, 10, size=(7, 5), dtype=int)\n",
    "M9=np.random.randint(1, 10, size=(7, 7), dtype=int)\n",
    "A='a'"
   ]
  },
  {
   "cell_type": "code",
   "execution_count": 27,
   "id": "9c5d9159",
   "metadata": {},
   "outputs": [
    {
     "name": "stdout",
     "output_type": "stream",
     "text": [
      "Input should be matrices\n"
     ]
    }
   ],
   "source": [
    "m_divide_left(M2,A)"
   ]
  },
  {
   "cell_type": "code",
   "execution_count": 23,
   "id": "3d973b0f",
   "metadata": {
    "scrolled": true
   },
   "outputs": [
    {
     "name": "stdout",
     "output_type": "stream",
     "text": [
      "A*B^(-1)= \n",
      " [[ 0.78535454 -2.65537573 -2.2035439   1.91795903 -0.36833216  4.13496914\n",
      "  -0.74758161]\n",
      " [-0.21091423 -1.05907011  0.04174984  0.77803028  0.09833246  1.70458803\n",
      "  -0.64309185]\n",
      " [ 0.9091607  -1.29524307 -1.86073151  1.32024076  0.57700458  1.95940178\n",
      "  -0.37103461]\n",
      " [ 0.15347173 -1.00998065 -0.26250653  1.27741609 -0.92463839  2.32856309\n",
      "  -0.76800356]\n",
      " [ 1.23626509  4.98088321  5.64335289 -3.28017996 -1.17873046 -8.77067531\n",
      "   2.45590087]]\n"
     ]
    }
   ],
   "source": [
    "m_divide_left(M2,M3)"
   ]
  },
  {
   "cell_type": "code",
   "execution_count": 24,
   "id": "6687c752",
   "metadata": {},
   "outputs": [
    {
     "name": "stdout",
     "output_type": "stream",
     "text": [
      "Matrix sizes do not match\n"
     ]
    }
   ],
   "source": [
    "m_divide_right(M2,M3)"
   ]
  },
  {
   "cell_type": "code",
   "execution_count": 25,
   "id": "668cd5d8",
   "metadata": {},
   "outputs": [
    {
     "name": "stdout",
     "output_type": "stream",
     "text": [
      "A*B^(-1)= \n",
      " [[ 0.78535454 -2.65537573 -2.2035439   1.91795903 -0.36833216  4.13496914\n",
      "  -0.74758161]\n",
      " [-0.21091423 -1.05907011  0.04174984  0.77803028  0.09833246  1.70458803\n",
      "  -0.64309185]\n",
      " [ 0.9091607  -1.29524307 -1.86073151  1.32024076  0.57700458  1.95940178\n",
      "  -0.37103461]\n",
      " [ 0.15347173 -1.00998065 -0.26250653  1.27741609 -0.92463839  2.32856309\n",
      "  -0.76800356]\n",
      " [ 1.23626509  4.98088321  5.64335289 -3.28017996 -1.17873046 -8.77067531\n",
      "   2.45590087]]\n",
      "Matrix sizes do not match\n"
     ]
    },
    {
     "data": {
      "text/plain": [
       "(None, None)"
      ]
     },
     "execution_count": 25,
     "metadata": {},
     "output_type": "execute_result"
    }
   ],
   "source": [
    "matrix_division(M2,M3)"
   ]
  },
  {
   "cell_type": "code",
   "execution_count": 28,
   "id": "369b97f8",
   "metadata": {
    "scrolled": true
   },
   "outputs": [
    {
     "name": "stdout",
     "output_type": "stream",
     "text": [
      "Matrix sizes do not match\n",
      "B^(-1)*A= \n",
      " [[ 3.19705187  2.10932906 -0.86112987  1.25912717  1.18928938]\n",
      " [-1.87154434 -1.83239775  1.32281687 -0.66433124 -0.31714008]\n",
      " [-0.77720213 -0.56054531  1.00199426 -0.07970709 -0.40507745]\n",
      " [ 0.5907652   0.47393745 -0.34237961  0.58907694 -0.09019542]\n",
      " [-0.96596041 -0.73429564  0.33788461 -0.93322922 -0.8221697 ]\n",
      " [-0.19288397  0.06228281 -0.17127422  0.21061073 -0.10996215]\n",
      " [ 0.47103575  0.83694199  0.02898535  0.38118854  1.37699602]]\n"
     ]
    },
    {
     "data": {
      "text/plain": [
       "(None, None)"
      ]
     },
     "execution_count": 28,
     "metadata": {},
     "output_type": "execute_result"
    }
   ],
   "source": [
    "matrix_division(M8,M9)"
   ]
  },
  {
   "cell_type": "code",
   "execution_count": 29,
   "id": "1cff2629",
   "metadata": {},
   "outputs": [
    {
     "name": "stdout",
     "output_type": "stream",
     "text": [
      "A*B^(-1)= \n",
      " [[-0.06380225  0.564773    0.44195895 -0.4329584   0.48300834 -1.42022257\n",
      "   0.88680904]\n",
      " [ 0.35339552 -0.64620352 -0.69957371  1.38147343  0.66324442  0.03452497\n",
      "  -0.04294517]\n",
      " [ 0.67752782  0.20532787  0.14534532 -0.16082458  0.39284106  0.25338004\n",
      "  -0.00384783]\n",
      " [-0.13304914  0.19306687 -0.8638135   2.11593438 -0.1664697  -0.27057218\n",
      "  -0.24453073]\n",
      " [ 0.97153871 -0.22479917  1.52284078 -1.18078828  0.54710604 -0.5197597\n",
      "  -0.02381153]\n",
      " [ 0.4097272  -0.21684323 -0.09772225  0.10348345  0.75426638  0.3296895\n",
      "   0.16162298]\n",
      " [-0.32164212 -0.01624249  0.1404775   0.86261413  0.82905992 -0.5105024\n",
      "  -0.23622308]]\n",
      "B^(-1)*A= \n",
      " [[-1.33819412e-01 -4.90820073e-01  2.38543030e+00  1.18997524e+00\n",
      "   6.55256827e-02  1.28918527e+00  2.22248484e+00]\n",
      " [-1.16257966e-01  4.58996328e-01 -2.41814038e+00 -1.21388174e+00\n",
      "   1.72835859e-01 -5.06478707e-04 -5.19436120e-01]\n",
      " [-2.26448740e-01 -1.32190942e-01  7.73941671e-01  6.62632423e-01\n",
      "   3.15050859e-01 -6.81509307e-01 -5.27919639e-01]\n",
      " [ 5.28088465e-01 -4.47980416e-01  8.73760182e-01  4.28058920e-01\n",
      "  -2.52395222e-02  2.09597771e-01 -2.06685519e-01]\n",
      " [ 3.95018219e-01  4.60220318e-01 -1.50255350e-02 -2.07325652e-01\n",
      "  -3.35668763e-01 -7.05243462e-01 -1.06371784e+00]\n",
      " [ 4.53523544e-01  1.06731946e+00 -8.28683577e-01 -9.72748632e-01\n",
      "   1.03224581e+00 -4.27200720e-01 -2.68827642e-01]\n",
      " [ 2.08746606e-02  2.21542228e-01 -3.12075297e-01  5.51594001e-01\n",
      "   2.19284177e-01  1.25869807e+00  1.42753837e+00]]\n"
     ]
    },
    {
     "data": {
      "text/plain": [
       "(None, None)"
      ]
     },
     "execution_count": 29,
     "metadata": {},
     "output_type": "execute_result"
    }
   ],
   "source": [
    "matrix_division(M3,M9)"
   ]
  },
  {
   "cell_type": "code",
   "execution_count": 30,
   "id": "bea7f361",
   "metadata": {},
   "outputs": [
    {
     "ename": "NameError",
     "evalue": "name 'a' is not defined",
     "output_type": "error",
     "traceback": [
      "\u001b[1;31m---------------------------------------------------------------------------\u001b[0m",
      "\u001b[1;31mNameError\u001b[0m                                 Traceback (most recent call last)",
      "Input \u001b[1;32mIn [30]\u001b[0m, in \u001b[0;36m<cell line: 1>\u001b[1;34m()\u001b[0m\n\u001b[1;32m----> 1\u001b[0m matrix_division(M2,\u001b[43ma\u001b[49m)\n",
      "\u001b[1;31mNameError\u001b[0m: name 'a' is not defined"
     ]
    }
   ],
   "source": [
    "matrix_division(M2,a)"
   ]
  },
  {
   "cell_type": "markdown",
   "id": "a2d32675",
   "metadata": {},
   "source": [
    "# Q5"
   ]
  },
  {
   "cell_type": "code",
   "execution_count": 1,
   "id": "78c4b15f",
   "metadata": {},
   "outputs": [],
   "source": [
    "def my_is_orthogonal(v1,v2, tol):\n",
    "    a=v1.reshape(-1)\n",
    "    b=v2.reshape(-1)\n",
    "    th=arccos(dot(a, b.T)/(norm(a)*norm(b)))\n",
    "    if np.abs(np.pi/2-th)<tol:\n",
    "        return(1)\n",
    "    else:\n",
    "        return(0)\n"
   ]
  },
  {
   "cell_type": "markdown",
   "id": "afba38d6",
   "metadata": {},
   "source": [
    "# q6"
   ]
  },
  {
   "cell_type": "code",
   "execution_count": null,
   "id": "8e68ddea",
   "metadata": {},
   "outputs": [],
   "source": [
    "class vector_calculator():\n",
    "    def __init__(self, v1, v2):\n",
    "        \n",
    "\n",
    "    def angle_between(v1,v2):\n",
    "        try:\n",
    "            th=np.arccos(np.dot(v1, v2)/(LA.norm(v1)*LA.norm(v2)))\n",
    "        except Exception as e:\n",
    "            print(e)\n",
    "        else:\n",
    "            return (th)\n",
    "        \n",
    "    def my_is_orthogonal(v1,v2, tol=0.001):\n",
    "    a=v1.reshape(-1)\n",
    "    b=v2.reshape(-1)\n",
    "    th=arccos(dot(a, b.T)/(norm(a)*norm(b)))\n",
    "    if np.abs(np.pi/2-th)<tol:\n",
    "        return(1)\n",
    "    else:\n",
    "        return(0)\n",
    "# i dont know what i am doing"
   ]
  }
 ],
 "metadata": {
  "kernelspec": {
   "display_name": "Python 3 (ipykernel)",
   "language": "python",
   "name": "python3"
  },
  "language_info": {
   "codemirror_mode": {
    "name": "ipython",
    "version": 3
   },
   "file_extension": ".py",
   "mimetype": "text/x-python",
   "name": "python",
   "nbconvert_exporter": "python",
   "pygments_lexer": "ipython3",
   "version": "3.10.5"
  }
 },
 "nbformat": 4,
 "nbformat_minor": 5
}
