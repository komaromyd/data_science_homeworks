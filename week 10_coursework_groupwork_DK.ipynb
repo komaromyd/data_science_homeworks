{
 "cells": [
  {
   "cell_type": "code",
   "execution_count": 2,
   "id": "cebc3a06",
   "metadata": {},
   "outputs": [],
   "source": [
    "import numpy as np\n",
    "import pandas as pd"
   ]
  },
  {
   "cell_type": "markdown",
   "id": "82b6d5b5",
   "metadata": {},
   "source": [
    "# warm-up 1"
   ]
  },
  {
   "cell_type": "code",
   "execution_count": 1,
   "id": "85ee0c18",
   "metadata": {},
   "outputs": [
    {
     "data": {
      "text/plain": [
       "[9, 8, 7, 6, 5, 4, 3, 2, 1, 0]"
      ]
     },
     "execution_count": 1,
     "metadata": {},
     "output_type": "execute_result"
    }
   ],
   "source": [
    "list =[0,1,2,3,4,5,6,7,8,9]\n",
    "rev_list= [list[len(list)-1-k] for k in range(len(list))]\n",
    "rev_list"
   ]
  },
  {
   "cell_type": "code",
   "execution_count": 2,
   "id": "a33f307c",
   "metadata": {},
   "outputs": [
    {
     "data": {
      "text/plain": [
       "[4.5, 4.0, 3.5, 3.0, 2.5, 2.0, 1.5, 1.0, 0.5, 0.0]"
      ]
     },
     "execution_count": 2,
     "metadata": {},
     "output_type": "execute_result"
    }
   ],
   "source": [
    "rev_list_2 = [k/2. for k in rev_list] \n",
    "rev_list_2"
   ]
  },
  {
   "cell_type": "markdown",
   "id": "7987b971",
   "metadata": {},
   "source": [
    "# Group exercise 1"
   ]
  },
  {
   "cell_type": "code",
   "execution_count": 3,
   "id": "476ad8e4",
   "metadata": {},
   "outputs": [],
   "source": [
    "def dotp(a,b):\n",
    "    try:\n",
    "        result= sum([a[i-1]*b[i-1] for i in range(max(len(v1), len(v2)))])\n",
    "    except IndexError:\n",
    "        print(\"Vectors should have the same length!\")\n",
    "    except TypeError:\n",
    "        print(\"Both inputs should be vectors!\")\n",
    "    except Exception as e: #Except all other errors\n",
    "        print(e) \n",
    "    else:\n",
    "        print(result)"
   ]
  },
  {
   "cell_type": "markdown",
   "id": "28f2b91d",
   "metadata": {},
   "source": [
    "# Group exercise 2"
   ]
  },
  {
   "cell_type": "code",
   "execution_count": null,
   "id": "b2e22970",
   "metadata": {},
   "outputs": [],
   "source": [
    "## my manual one hot encoder\n",
    "import numpy as np\n",
    "data = 'hello world'\n",
    "alphabet='abcdefghijklmnopqrstuvwxyz '\n",
    "\n",
    "#create a list dictionary with the nth letter of alphabet as key and n as value\n",
    "alphabet_l=np.arange(len(alphabet))\n",
    "dict_l=dict(zip(alphabet, alphabet_l))\n",
    "\n",
    "#translate data by replacing every character with the number of their position in the list dictionary\n",
    "list_encode=[]\n",
    "for char in data:\n",
    "    list_encode.append(dict_l[char])\n",
    "\n",
    "#create a unity matrix of len(alphabet)  \n",
    "alphabet_m=np.identity(len(alphabet))\n",
    "#create a matrix dictionary with the nth letter of alphabet as key and n as value and nth row of unity matrix as value\n",
    "dict_m = dict(zip(alphabet, alphabet_m))\n",
    "\n",
    "#translate data by replacing every character with the corresponding row of the matric dictionary\n",
    "one_hot_encode=[]\n",
    "for char in data:\n",
    "    one_hot_encode.append(dict_m[char])\n",
    "    translation_m=np.array(one_hot_encode)\n",
    "\n",
    "print(data)\n",
    "print('')\n",
    "print(list_encode)\n",
    "print('')\n",
    "print(translation_m)\n"
   ]
  },
  {
   "cell_type": "markdown",
   "id": "8a09e5c7",
   "metadata": {},
   "source": [
    "### encoding the neighborhood_group column of the Belize_airbnb dataframe:"
   ]
  },
  {
   "cell_type": "code",
   "execution_count": 7,
   "id": "1f0ac5f8",
   "metadata": {},
   "outputs": [
    {
     "name": "stderr",
     "output_type": "stream",
     "text": [
      "C:\\Users\\Lara\\AppData\\Local\\Temp\\ipykernel_17336\\3107281106.py:21: SettingWithCopyWarning: \n",
      "A value is trying to be set on a copy of a slice from a DataFrame\n",
      "\n",
      "See the caveats in the documentation: https://pandas.pydata.org/pandas-docs/stable/user_guide/indexing.html#returning-a-view-versus-a-copy\n",
      "  df['encoded'][i]=translation_m[i]\n"
     ]
    },
    {
     "data": {
      "text/html": [
       "<div>\n",
       "<style scoped>\n",
       "    .dataframe tbody tr th:only-of-type {\n",
       "        vertical-align: middle;\n",
       "    }\n",
       "\n",
       "    .dataframe tbody tr th {\n",
       "        vertical-align: top;\n",
       "    }\n",
       "\n",
       "    .dataframe thead th {\n",
       "        text-align: right;\n",
       "    }\n",
       "</style>\n",
       "<table border=\"1\" class=\"dataframe\">\n",
       "  <thead>\n",
       "    <tr style=\"text-align: right;\">\n",
       "      <th></th>\n",
       "      <th>neighbourhood_group</th>\n",
       "      <th>encoded</th>\n",
       "    </tr>\n",
       "  </thead>\n",
       "  <tbody>\n",
       "    <tr>\n",
       "      <th>0</th>\n",
       "      <td>Belize</td>\n",
       "      <td>[1.0, 0.0, 0.0, 0.0, 0.0, 0.0]</td>\n",
       "    </tr>\n",
       "    <tr>\n",
       "      <th>1</th>\n",
       "      <td>Belize</td>\n",
       "      <td>[1.0, 0.0, 0.0, 0.0, 0.0, 0.0]</td>\n",
       "    </tr>\n",
       "    <tr>\n",
       "      <th>2</th>\n",
       "      <td>Belize</td>\n",
       "      <td>[1.0, 0.0, 0.0, 0.0, 0.0, 0.0]</td>\n",
       "    </tr>\n",
       "    <tr>\n",
       "      <th>3</th>\n",
       "      <td>Stann Creek</td>\n",
       "      <td>[0.0, 1.0, 0.0, 0.0, 0.0, 0.0]</td>\n",
       "    </tr>\n",
       "    <tr>\n",
       "      <th>4</th>\n",
       "      <td>Belize</td>\n",
       "      <td>[1.0, 0.0, 0.0, 0.0, 0.0, 0.0]</td>\n",
       "    </tr>\n",
       "    <tr>\n",
       "      <th>...</th>\n",
       "      <td>...</td>\n",
       "      <td>...</td>\n",
       "    </tr>\n",
       "    <tr>\n",
       "      <th>2791</th>\n",
       "      <td>Belize</td>\n",
       "      <td>[1.0, 0.0, 0.0, 0.0, 0.0, 0.0]</td>\n",
       "    </tr>\n",
       "    <tr>\n",
       "      <th>2792</th>\n",
       "      <td>Corozal</td>\n",
       "      <td>[0.0, 0.0, 0.0, 0.0, 1.0, 0.0]</td>\n",
       "    </tr>\n",
       "    <tr>\n",
       "      <th>2793</th>\n",
       "      <td>Belize</td>\n",
       "      <td>[1.0, 0.0, 0.0, 0.0, 0.0, 0.0]</td>\n",
       "    </tr>\n",
       "    <tr>\n",
       "      <th>2794</th>\n",
       "      <td>Belize</td>\n",
       "      <td>[1.0, 0.0, 0.0, 0.0, 0.0, 0.0]</td>\n",
       "    </tr>\n",
       "    <tr>\n",
       "      <th>2795</th>\n",
       "      <td>Cayo</td>\n",
       "      <td>[0.0, 0.0, 0.0, 1.0, 0.0, 0.0]</td>\n",
       "    </tr>\n",
       "  </tbody>\n",
       "</table>\n",
       "<p>2796 rows × 2 columns</p>\n",
       "</div>"
      ],
      "text/plain": [
       "     neighbourhood_group                         encoded\n",
       "0                 Belize  [1.0, 0.0, 0.0, 0.0, 0.0, 0.0]\n",
       "1                 Belize  [1.0, 0.0, 0.0, 0.0, 0.0, 0.0]\n",
       "2                 Belize  [1.0, 0.0, 0.0, 0.0, 0.0, 0.0]\n",
       "3            Stann Creek  [0.0, 1.0, 0.0, 0.0, 0.0, 0.0]\n",
       "4                 Belize  [1.0, 0.0, 0.0, 0.0, 0.0, 0.0]\n",
       "...                  ...                             ...\n",
       "2791              Belize  [1.0, 0.0, 0.0, 0.0, 0.0, 0.0]\n",
       "2792             Corozal  [0.0, 0.0, 0.0, 0.0, 1.0, 0.0]\n",
       "2793              Belize  [1.0, 0.0, 0.0, 0.0, 0.0, 0.0]\n",
       "2794              Belize  [1.0, 0.0, 0.0, 0.0, 0.0, 0.0]\n",
       "2795                Cayo  [0.0, 0.0, 0.0, 1.0, 0.0, 0.0]\n",
       "\n",
       "[2796 rows x 2 columns]"
      ]
     },
     "execution_count": 7,
     "metadata": {},
     "output_type": "execute_result"
    }
   ],
   "source": [
    "#reading the data:\n",
    "df=pd.read_csv('belize_airbnb_listings.csv')\n",
    "alphabet=df['neighbourhood_group'].unique()\n",
    "data= df['neighbourhood_group']\n",
    "\n",
    "#create a unity matrix of len(alphabet)  \n",
    "alphabet_m=np.identity(len(alphabet))\n",
    "#create a matrix dictionary with the nth letter of alphabet as key and n as value and nth row of unity matrix as value\n",
    "dict_m = dict(zip(alphabet, alphabet_m))\n",
    "\n",
    "#translate data by replacing every character with the corresponding row of the matric dictionary\n",
    "one_hot_encode=[]\n",
    "for char in data:\n",
    "    one_hot_encode.append(dict_m[char])\n",
    "    translation_m=np.array(one_hot_encode)\n",
    "#print(translation_m)\n",
    "\n",
    "#creating an empty column and filling it up with the corresponding row vectors of the translation matrix:\n",
    "df['encoded']=\"\"\n",
    "for i in range(len(translation_m)):\n",
    "    df['encoded'][i]=translation_m[i]\n",
    "df[['neighbourhood_group', 'encoded']]"
   ]
  },
  {
   "cell_type": "markdown",
   "id": "8dd008dd",
   "metadata": {},
   "source": [
    "# Group exercise bonus"
   ]
  },
  {
   "cell_type": "code",
   "execution_count": null,
   "id": "dbe3dca4",
   "metadata": {},
   "outputs": [],
   "source": [
    "from collections.abc import Iterable\n",
    "def cross(a,b):\n",
    "    if type(a) != type(b):\n",
    "        print('Inputs should have the same types')\n",
    "    elif isinstance(a, Iterable) == False:\n",
    "        print('Both inputs should be iterables')\n",
    "    elif len(a) != len(b):\n",
    "        print('The two inputs shouls have the same length')\n",
    "    elif len(a) != 3:\n",
    "        print('Both vectors shoudl have length 3')\n",
    "    else:\n",
    "        product=[a[(k+1)%3]*b[(k+2)%3]-b[(k+1)%3]*a[(k+2)%3] for k in range (3) if len(a)==len(b)==3]\n",
    "        print(product)\n"
   ]
  }
 ],
 "metadata": {
  "kernelspec": {
   "display_name": "Python 3 (ipykernel)",
   "language": "python",
   "name": "python3"
  },
  "language_info": {
   "codemirror_mode": {
    "name": "ipython",
    "version": 3
   },
   "file_extension": ".py",
   "mimetype": "text/x-python",
   "name": "python",
   "nbconvert_exporter": "python",
   "pygments_lexer": "ipython3",
   "version": "3.10.5"
  }
 },
 "nbformat": 4,
 "nbformat_minor": 5
}
